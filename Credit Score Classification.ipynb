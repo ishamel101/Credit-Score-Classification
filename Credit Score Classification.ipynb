{
 "cells": [
  {
   "cell_type": "markdown",
   "metadata": {},
   "source": [
    "### import all the necessary libraries"
   ]
  },
  {
   "cell_type": "code",
   "execution_count": 523,
   "metadata": {},
   "outputs": [],
   "source": [
    "import pandas as pd\n",
    "import numpy as np\n",
    "import matplotlib.pyplot as plt\n",
    "import seaborn as sns\n",
    "from sklearn import metrics\n",
    "from sklearn.metrics import accuracy_score, precision_score, recall_score, f1_score, roc_curve, confusion_matrix\n",
    "from yellowbrick.classifier import ROCAUC, ConfusionMatrix\n",
    "from sklearn.model_selection import train_test_split\n",
    "from sklearn.tree import DecisionTreeClassifier\n",
    "from sklearn.linear_model import LogisticRegression\n",
    "from sklearn.ensemble import RandomForestClassifier\n",
    "from sklearn.svm import SVC\n",
    "from sklearn.neighbors import KNeighborsClassifier\n",
    "from sklearn.ensemble import GradientBoostingClassifier\n",
    "import re"
   ]
  },
  {
   "cell_type": "markdown",
   "metadata": {},
   "source": [
    "### import the Data"
   ]
  },
  {
   "cell_type": "code",
   "execution_count": 524,
   "metadata": {},
   "outputs": [],
   "source": [
    "data_training = pd.read_csv('train.csv', sep=',',low_memory=False)\n",
    "data_testing = pd.read_csv('test.csv',sep=',')"
   ]
  },
  {
   "cell_type": "markdown",
   "metadata": {},
   "source": [
    "# Understanding the Structure of Data"
   ]
  },
  {
   "cell_type": "code",
   "execution_count": 525,
   "metadata": {},
   "outputs": [
    {
     "data": {
      "text/html": [
       "<div>\n",
       "<style scoped>\n",
       "    .dataframe tbody tr th:only-of-type {\n",
       "        vertical-align: middle;\n",
       "    }\n",
       "\n",
       "    .dataframe tbody tr th {\n",
       "        vertical-align: top;\n",
       "    }\n",
       "\n",
       "    .dataframe thead th {\n",
       "        text-align: right;\n",
       "    }\n",
       "</style>\n",
       "<table border=\"1\" class=\"dataframe\">\n",
       "  <thead>\n",
       "    <tr style=\"text-align: right;\">\n",
       "      <th></th>\n",
       "      <th>ID</th>\n",
       "      <th>Customer_ID</th>\n",
       "      <th>Month</th>\n",
       "      <th>Name</th>\n",
       "      <th>Age</th>\n",
       "      <th>SSN</th>\n",
       "      <th>Occupation</th>\n",
       "      <th>Annual_Income</th>\n",
       "      <th>Monthly_Inhand_Salary</th>\n",
       "      <th>Num_Bank_Accounts</th>\n",
       "      <th>...</th>\n",
       "      <th>Credit_Mix</th>\n",
       "      <th>Outstanding_Debt</th>\n",
       "      <th>Credit_Utilization_Ratio</th>\n",
       "      <th>Credit_History_Age</th>\n",
       "      <th>Payment_of_Min_Amount</th>\n",
       "      <th>Total_EMI_per_month</th>\n",
       "      <th>Amount_invested_monthly</th>\n",
       "      <th>Payment_Behaviour</th>\n",
       "      <th>Monthly_Balance</th>\n",
       "      <th>Credit_Score</th>\n",
       "    </tr>\n",
       "  </thead>\n",
       "  <tbody>\n",
       "    <tr>\n",
       "      <th>0</th>\n",
       "      <td>0x1602</td>\n",
       "      <td>CUS_0xd40</td>\n",
       "      <td>January</td>\n",
       "      <td>Aaron Maashoh</td>\n",
       "      <td>23</td>\n",
       "      <td>821-00-0265</td>\n",
       "      <td>Scientist</td>\n",
       "      <td>19114.12</td>\n",
       "      <td>1824.843333</td>\n",
       "      <td>3</td>\n",
       "      <td>...</td>\n",
       "      <td>_</td>\n",
       "      <td>809.98</td>\n",
       "      <td>26.822620</td>\n",
       "      <td>22 Years and 1 Months</td>\n",
       "      <td>No</td>\n",
       "      <td>49.574949</td>\n",
       "      <td>80.41529543900253</td>\n",
       "      <td>High_spent_Small_value_payments</td>\n",
       "      <td>312.49408867943663</td>\n",
       "      <td>Good</td>\n",
       "    </tr>\n",
       "    <tr>\n",
       "      <th>1</th>\n",
       "      <td>0x1603</td>\n",
       "      <td>CUS_0xd40</td>\n",
       "      <td>February</td>\n",
       "      <td>Aaron Maashoh</td>\n",
       "      <td>23</td>\n",
       "      <td>821-00-0265</td>\n",
       "      <td>Scientist</td>\n",
       "      <td>19114.12</td>\n",
       "      <td>NaN</td>\n",
       "      <td>3</td>\n",
       "      <td>...</td>\n",
       "      <td>Good</td>\n",
       "      <td>809.98</td>\n",
       "      <td>31.944960</td>\n",
       "      <td>NaN</td>\n",
       "      <td>No</td>\n",
       "      <td>49.574949</td>\n",
       "      <td>118.28022162236736</td>\n",
       "      <td>Low_spent_Large_value_payments</td>\n",
       "      <td>284.62916249607184</td>\n",
       "      <td>Good</td>\n",
       "    </tr>\n",
       "    <tr>\n",
       "      <th>2</th>\n",
       "      <td>0x1604</td>\n",
       "      <td>CUS_0xd40</td>\n",
       "      <td>March</td>\n",
       "      <td>Aaron Maashoh</td>\n",
       "      <td>-500</td>\n",
       "      <td>821-00-0265</td>\n",
       "      <td>Scientist</td>\n",
       "      <td>19114.12</td>\n",
       "      <td>NaN</td>\n",
       "      <td>3</td>\n",
       "      <td>...</td>\n",
       "      <td>Good</td>\n",
       "      <td>809.98</td>\n",
       "      <td>28.609352</td>\n",
       "      <td>22 Years and 3 Months</td>\n",
       "      <td>No</td>\n",
       "      <td>49.574949</td>\n",
       "      <td>81.699521264648</td>\n",
       "      <td>Low_spent_Medium_value_payments</td>\n",
       "      <td>331.2098628537912</td>\n",
       "      <td>Good</td>\n",
       "    </tr>\n",
       "    <tr>\n",
       "      <th>3</th>\n",
       "      <td>0x1605</td>\n",
       "      <td>CUS_0xd40</td>\n",
       "      <td>April</td>\n",
       "      <td>Aaron Maashoh</td>\n",
       "      <td>23</td>\n",
       "      <td>821-00-0265</td>\n",
       "      <td>Scientist</td>\n",
       "      <td>19114.12</td>\n",
       "      <td>NaN</td>\n",
       "      <td>3</td>\n",
       "      <td>...</td>\n",
       "      <td>Good</td>\n",
       "      <td>809.98</td>\n",
       "      <td>31.377862</td>\n",
       "      <td>22 Years and 4 Months</td>\n",
       "      <td>No</td>\n",
       "      <td>49.574949</td>\n",
       "      <td>199.4580743910713</td>\n",
       "      <td>Low_spent_Small_value_payments</td>\n",
       "      <td>223.45130972736786</td>\n",
       "      <td>Good</td>\n",
       "    </tr>\n",
       "    <tr>\n",
       "      <th>4</th>\n",
       "      <td>0x1606</td>\n",
       "      <td>CUS_0xd40</td>\n",
       "      <td>May</td>\n",
       "      <td>Aaron Maashoh</td>\n",
       "      <td>23</td>\n",
       "      <td>821-00-0265</td>\n",
       "      <td>Scientist</td>\n",
       "      <td>19114.12</td>\n",
       "      <td>1824.843333</td>\n",
       "      <td>3</td>\n",
       "      <td>...</td>\n",
       "      <td>Good</td>\n",
       "      <td>809.98</td>\n",
       "      <td>24.797347</td>\n",
       "      <td>22 Years and 5 Months</td>\n",
       "      <td>No</td>\n",
       "      <td>49.574949</td>\n",
       "      <td>41.420153086217326</td>\n",
       "      <td>High_spent_Medium_value_payments</td>\n",
       "      <td>341.48923103222177</td>\n",
       "      <td>Good</td>\n",
       "    </tr>\n",
       "  </tbody>\n",
       "</table>\n",
       "<p>5 rows × 28 columns</p>\n",
       "</div>"
      ],
      "text/plain": [
       "       ID Customer_ID     Month           Name   Age          SSN Occupation  \\\n",
       "0  0x1602   CUS_0xd40   January  Aaron Maashoh    23  821-00-0265  Scientist   \n",
       "1  0x1603   CUS_0xd40  February  Aaron Maashoh    23  821-00-0265  Scientist   \n",
       "2  0x1604   CUS_0xd40     March  Aaron Maashoh  -500  821-00-0265  Scientist   \n",
       "3  0x1605   CUS_0xd40     April  Aaron Maashoh    23  821-00-0265  Scientist   \n",
       "4  0x1606   CUS_0xd40       May  Aaron Maashoh    23  821-00-0265  Scientist   \n",
       "\n",
       "  Annual_Income  Monthly_Inhand_Salary  Num_Bank_Accounts  ...  Credit_Mix  \\\n",
       "0      19114.12            1824.843333                  3  ...           _   \n",
       "1      19114.12                    NaN                  3  ...        Good   \n",
       "2      19114.12                    NaN                  3  ...        Good   \n",
       "3      19114.12                    NaN                  3  ...        Good   \n",
       "4      19114.12            1824.843333                  3  ...        Good   \n",
       "\n",
       "   Outstanding_Debt Credit_Utilization_Ratio     Credit_History_Age  \\\n",
       "0            809.98                26.822620  22 Years and 1 Months   \n",
       "1            809.98                31.944960                    NaN   \n",
       "2            809.98                28.609352  22 Years and 3 Months   \n",
       "3            809.98                31.377862  22 Years and 4 Months   \n",
       "4            809.98                24.797347  22 Years and 5 Months   \n",
       "\n",
       "   Payment_of_Min_Amount Total_EMI_per_month Amount_invested_monthly  \\\n",
       "0                     No           49.574949       80.41529543900253   \n",
       "1                     No           49.574949      118.28022162236736   \n",
       "2                     No           49.574949         81.699521264648   \n",
       "3                     No           49.574949       199.4580743910713   \n",
       "4                     No           49.574949      41.420153086217326   \n",
       "\n",
       "                  Payment_Behaviour     Monthly_Balance Credit_Score  \n",
       "0   High_spent_Small_value_payments  312.49408867943663         Good  \n",
       "1    Low_spent_Large_value_payments  284.62916249607184         Good  \n",
       "2   Low_spent_Medium_value_payments   331.2098628537912         Good  \n",
       "3    Low_spent_Small_value_payments  223.45130972736786         Good  \n",
       "4  High_spent_Medium_value_payments  341.48923103222177         Good  \n",
       "\n",
       "[5 rows x 28 columns]"
      ]
     },
     "execution_count": 525,
     "metadata": {},
     "output_type": "execute_result"
    }
   ],
   "source": [
    "# display the first 5 rows from the data\n",
    "data_training.head()"
   ]
  },
  {
   "cell_type": "code",
   "execution_count": 526,
   "metadata": {},
   "outputs": [
    {
     "data": {
      "text/html": [
       "<div>\n",
       "<style scoped>\n",
       "    .dataframe tbody tr th:only-of-type {\n",
       "        vertical-align: middle;\n",
       "    }\n",
       "\n",
       "    .dataframe tbody tr th {\n",
       "        vertical-align: top;\n",
       "    }\n",
       "\n",
       "    .dataframe thead th {\n",
       "        text-align: right;\n",
       "    }\n",
       "</style>\n",
       "<table border=\"1\" class=\"dataframe\">\n",
       "  <thead>\n",
       "    <tr style=\"text-align: right;\">\n",
       "      <th></th>\n",
       "      <th>ID</th>\n",
       "      <th>Customer_ID</th>\n",
       "      <th>Month</th>\n",
       "      <th>Name</th>\n",
       "      <th>Age</th>\n",
       "      <th>SSN</th>\n",
       "      <th>Occupation</th>\n",
       "      <th>Annual_Income</th>\n",
       "      <th>Monthly_Inhand_Salary</th>\n",
       "      <th>Num_Bank_Accounts</th>\n",
       "      <th>...</th>\n",
       "      <th>Credit_Mix</th>\n",
       "      <th>Outstanding_Debt</th>\n",
       "      <th>Credit_Utilization_Ratio</th>\n",
       "      <th>Credit_History_Age</th>\n",
       "      <th>Payment_of_Min_Amount</th>\n",
       "      <th>Total_EMI_per_month</th>\n",
       "      <th>Amount_invested_monthly</th>\n",
       "      <th>Payment_Behaviour</th>\n",
       "      <th>Monthly_Balance</th>\n",
       "      <th>Credit_Score</th>\n",
       "    </tr>\n",
       "  </thead>\n",
       "  <tbody>\n",
       "    <tr>\n",
       "      <th>99995</th>\n",
       "      <td>0x25fe9</td>\n",
       "      <td>CUS_0x942c</td>\n",
       "      <td>April</td>\n",
       "      <td>Nicks</td>\n",
       "      <td>25</td>\n",
       "      <td>078-73-5990</td>\n",
       "      <td>Mechanic</td>\n",
       "      <td>39628.99</td>\n",
       "      <td>3359.415833</td>\n",
       "      <td>4</td>\n",
       "      <td>...</td>\n",
       "      <td>_</td>\n",
       "      <td>502.38</td>\n",
       "      <td>34.663572</td>\n",
       "      <td>31 Years and 6 Months</td>\n",
       "      <td>No</td>\n",
       "      <td>35.104023</td>\n",
       "      <td>60.97133255718485</td>\n",
       "      <td>High_spent_Large_value_payments</td>\n",
       "      <td>479.86622816574095</td>\n",
       "      <td>Poor</td>\n",
       "    </tr>\n",
       "    <tr>\n",
       "      <th>99996</th>\n",
       "      <td>0x25fea</td>\n",
       "      <td>CUS_0x942c</td>\n",
       "      <td>May</td>\n",
       "      <td>Nicks</td>\n",
       "      <td>25</td>\n",
       "      <td>078-73-5990</td>\n",
       "      <td>Mechanic</td>\n",
       "      <td>39628.99</td>\n",
       "      <td>3359.415833</td>\n",
       "      <td>4</td>\n",
       "      <td>...</td>\n",
       "      <td>_</td>\n",
       "      <td>502.38</td>\n",
       "      <td>40.565631</td>\n",
       "      <td>31 Years and 7 Months</td>\n",
       "      <td>No</td>\n",
       "      <td>35.104023</td>\n",
       "      <td>54.18595028760385</td>\n",
       "      <td>High_spent_Medium_value_payments</td>\n",
       "      <td>496.651610435322</td>\n",
       "      <td>Poor</td>\n",
       "    </tr>\n",
       "    <tr>\n",
       "      <th>99997</th>\n",
       "      <td>0x25feb</td>\n",
       "      <td>CUS_0x942c</td>\n",
       "      <td>June</td>\n",
       "      <td>Nicks</td>\n",
       "      <td>25</td>\n",
       "      <td>078-73-5990</td>\n",
       "      <td>Mechanic</td>\n",
       "      <td>39628.99</td>\n",
       "      <td>3359.415833</td>\n",
       "      <td>4</td>\n",
       "      <td>...</td>\n",
       "      <td>Good</td>\n",
       "      <td>502.38</td>\n",
       "      <td>41.255522</td>\n",
       "      <td>31 Years and 8 Months</td>\n",
       "      <td>No</td>\n",
       "      <td>35.104023</td>\n",
       "      <td>24.02847744864441</td>\n",
       "      <td>High_spent_Large_value_payments</td>\n",
       "      <td>516.8090832742814</td>\n",
       "      <td>Poor</td>\n",
       "    </tr>\n",
       "    <tr>\n",
       "      <th>99998</th>\n",
       "      <td>0x25fec</td>\n",
       "      <td>CUS_0x942c</td>\n",
       "      <td>July</td>\n",
       "      <td>Nicks</td>\n",
       "      <td>25</td>\n",
       "      <td>078-73-5990</td>\n",
       "      <td>Mechanic</td>\n",
       "      <td>39628.99</td>\n",
       "      <td>3359.415833</td>\n",
       "      <td>4</td>\n",
       "      <td>...</td>\n",
       "      <td>Good</td>\n",
       "      <td>502.38</td>\n",
       "      <td>33.638208</td>\n",
       "      <td>31 Years and 9 Months</td>\n",
       "      <td>No</td>\n",
       "      <td>35.104023</td>\n",
       "      <td>251.67258219721603</td>\n",
       "      <td>Low_spent_Large_value_payments</td>\n",
       "      <td>319.1649785257098</td>\n",
       "      <td>Standard</td>\n",
       "    </tr>\n",
       "    <tr>\n",
       "      <th>99999</th>\n",
       "      <td>0x25fed</td>\n",
       "      <td>CUS_0x942c</td>\n",
       "      <td>August</td>\n",
       "      <td>Nicks</td>\n",
       "      <td>25</td>\n",
       "      <td>078-73-5990</td>\n",
       "      <td>Mechanic</td>\n",
       "      <td>39628.99_</td>\n",
       "      <td>3359.415833</td>\n",
       "      <td>4</td>\n",
       "      <td>...</td>\n",
       "      <td>Good</td>\n",
       "      <td>502.38</td>\n",
       "      <td>34.192463</td>\n",
       "      <td>31 Years and 10 Months</td>\n",
       "      <td>No</td>\n",
       "      <td>35.104023</td>\n",
       "      <td>167.1638651610451</td>\n",
       "      <td>!@9#%8</td>\n",
       "      <td>393.6736955618808</td>\n",
       "      <td>Poor</td>\n",
       "    </tr>\n",
       "  </tbody>\n",
       "</table>\n",
       "<p>5 rows × 28 columns</p>\n",
       "</div>"
      ],
      "text/plain": [
       "            ID Customer_ID   Month   Name Age          SSN Occupation  \\\n",
       "99995  0x25fe9  CUS_0x942c   April  Nicks  25  078-73-5990   Mechanic   \n",
       "99996  0x25fea  CUS_0x942c     May  Nicks  25  078-73-5990   Mechanic   \n",
       "99997  0x25feb  CUS_0x942c    June  Nicks  25  078-73-5990   Mechanic   \n",
       "99998  0x25fec  CUS_0x942c    July  Nicks  25  078-73-5990   Mechanic   \n",
       "99999  0x25fed  CUS_0x942c  August  Nicks  25  078-73-5990   Mechanic   \n",
       "\n",
       "      Annual_Income  Monthly_Inhand_Salary  Num_Bank_Accounts  ...  \\\n",
       "99995      39628.99            3359.415833                  4  ...   \n",
       "99996      39628.99            3359.415833                  4  ...   \n",
       "99997      39628.99            3359.415833                  4  ...   \n",
       "99998      39628.99            3359.415833                  4  ...   \n",
       "99999     39628.99_            3359.415833                  4  ...   \n",
       "\n",
       "       Credit_Mix  Outstanding_Debt Credit_Utilization_Ratio  \\\n",
       "99995           _            502.38                34.663572   \n",
       "99996           _            502.38                40.565631   \n",
       "99997        Good            502.38                41.255522   \n",
       "99998        Good            502.38                33.638208   \n",
       "99999        Good            502.38                34.192463   \n",
       "\n",
       "           Credit_History_Age  Payment_of_Min_Amount Total_EMI_per_month  \\\n",
       "99995   31 Years and 6 Months                     No           35.104023   \n",
       "99996   31 Years and 7 Months                     No           35.104023   \n",
       "99997   31 Years and 8 Months                     No           35.104023   \n",
       "99998   31 Years and 9 Months                     No           35.104023   \n",
       "99999  31 Years and 10 Months                     No           35.104023   \n",
       "\n",
       "      Amount_invested_monthly                 Payment_Behaviour  \\\n",
       "99995       60.97133255718485   High_spent_Large_value_payments   \n",
       "99996       54.18595028760385  High_spent_Medium_value_payments   \n",
       "99997       24.02847744864441   High_spent_Large_value_payments   \n",
       "99998      251.67258219721603    Low_spent_Large_value_payments   \n",
       "99999       167.1638651610451                            !@9#%8   \n",
       "\n",
       "          Monthly_Balance Credit_Score  \n",
       "99995  479.86622816574095         Poor  \n",
       "99996    496.651610435322         Poor  \n",
       "99997   516.8090832742814         Poor  \n",
       "99998   319.1649785257098     Standard  \n",
       "99999   393.6736955618808         Poor  \n",
       "\n",
       "[5 rows x 28 columns]"
      ]
     },
     "execution_count": 526,
     "metadata": {},
     "output_type": "execute_result"
    }
   ],
   "source": [
    "# display the last 5 rows from the data\n",
    "data_training.tail()"
   ]
  },
  {
   "cell_type": "code",
   "execution_count": 527,
   "metadata": {},
   "outputs": [
    {
     "name": "stdout",
     "output_type": "stream",
     "text": [
      "<class 'pandas.core.frame.DataFrame'>\n",
      "RangeIndex: 100000 entries, 0 to 99999\n",
      "Data columns (total 28 columns):\n",
      " #   Column                    Non-Null Count   Dtype  \n",
      "---  ------                    --------------   -----  \n",
      " 0   ID                        100000 non-null  object \n",
      " 1   Customer_ID               100000 non-null  object \n",
      " 2   Month                     100000 non-null  object \n",
      " 3   Name                      90015 non-null   object \n",
      " 4   Age                       100000 non-null  object \n",
      " 5   SSN                       100000 non-null  object \n",
      " 6   Occupation                100000 non-null  object \n",
      " 7   Annual_Income             100000 non-null  object \n",
      " 8   Monthly_Inhand_Salary     84998 non-null   float64\n",
      " 9   Num_Bank_Accounts         100000 non-null  int64  \n",
      " 10  Num_Credit_Card           100000 non-null  int64  \n",
      " 11  Interest_Rate             100000 non-null  int64  \n",
      " 12  Num_of_Loan               100000 non-null  object \n",
      " 13  Type_of_Loan              88592 non-null   object \n",
      " 14  Delay_from_due_date       100000 non-null  int64  \n",
      " 15  Num_of_Delayed_Payment    92998 non-null   object \n",
      " 16  Changed_Credit_Limit      100000 non-null  object \n",
      " 17  Num_Credit_Inquiries      98035 non-null   float64\n",
      " 18  Credit_Mix                100000 non-null  object \n",
      " 19  Outstanding_Debt          100000 non-null  object \n",
      " 20  Credit_Utilization_Ratio  100000 non-null  float64\n",
      " 21  Credit_History_Age        90970 non-null   object \n",
      " 22  Payment_of_Min_Amount     100000 non-null  object \n",
      " 23  Total_EMI_per_month       100000 non-null  float64\n",
      " 24  Amount_invested_monthly   95521 non-null   object \n",
      " 25  Payment_Behaviour         100000 non-null  object \n",
      " 26  Monthly_Balance           98800 non-null   object \n",
      " 27  Credit_Score              100000 non-null  object \n",
      "dtypes: float64(4), int64(4), object(20)\n",
      "memory usage: 21.4+ MB\n"
     ]
    }
   ],
   "source": [
    "data_training.info()"
   ]
  },
  {
   "cell_type": "markdown",
   "metadata": {},
   "source": [
    "We notice that there are inconsistencies in the data types within certain columns. For example, the columns representing Age, Annual Income, and Monthly Balance are currently labeled as objects, which may lead to misinterpretation of their actual numerical values. This misclassification could potentially affect subsequent analyses or modeling processes."
   ]
  },
  {
   "cell_type": "code",
   "execution_count": 528,
   "metadata": {},
   "outputs": [
    {
     "data": {
      "text/html": [
       "<div>\n",
       "<style scoped>\n",
       "    .dataframe tbody tr th:only-of-type {\n",
       "        vertical-align: middle;\n",
       "    }\n",
       "\n",
       "    .dataframe tbody tr th {\n",
       "        vertical-align: top;\n",
       "    }\n",
       "\n",
       "    .dataframe thead th {\n",
       "        text-align: right;\n",
       "    }\n",
       "</style>\n",
       "<table border=\"1\" class=\"dataframe\">\n",
       "  <thead>\n",
       "    <tr style=\"text-align: right;\">\n",
       "      <th></th>\n",
       "      <th>Monthly_Inhand_Salary</th>\n",
       "      <th>Num_Bank_Accounts</th>\n",
       "      <th>Num_Credit_Card</th>\n",
       "      <th>Interest_Rate</th>\n",
       "      <th>Delay_from_due_date</th>\n",
       "      <th>Num_Credit_Inquiries</th>\n",
       "      <th>Credit_Utilization_Ratio</th>\n",
       "      <th>Total_EMI_per_month</th>\n",
       "    </tr>\n",
       "  </thead>\n",
       "  <tbody>\n",
       "    <tr>\n",
       "      <th>count</th>\n",
       "      <td>84998.000000</td>\n",
       "      <td>100000.000000</td>\n",
       "      <td>100000.00000</td>\n",
       "      <td>100000.000000</td>\n",
       "      <td>100000.000000</td>\n",
       "      <td>98035.000000</td>\n",
       "      <td>100000.000000</td>\n",
       "      <td>100000.000000</td>\n",
       "    </tr>\n",
       "    <tr>\n",
       "      <th>mean</th>\n",
       "      <td>4194.170850</td>\n",
       "      <td>17.091280</td>\n",
       "      <td>22.47443</td>\n",
       "      <td>72.466040</td>\n",
       "      <td>21.068780</td>\n",
       "      <td>27.754251</td>\n",
       "      <td>32.285173</td>\n",
       "      <td>1403.118217</td>\n",
       "    </tr>\n",
       "    <tr>\n",
       "      <th>std</th>\n",
       "      <td>3183.686167</td>\n",
       "      <td>117.404834</td>\n",
       "      <td>129.05741</td>\n",
       "      <td>466.422621</td>\n",
       "      <td>14.860104</td>\n",
       "      <td>193.177339</td>\n",
       "      <td>5.116875</td>\n",
       "      <td>8306.041270</td>\n",
       "    </tr>\n",
       "    <tr>\n",
       "      <th>min</th>\n",
       "      <td>303.645417</td>\n",
       "      <td>-1.000000</td>\n",
       "      <td>0.00000</td>\n",
       "      <td>1.000000</td>\n",
       "      <td>-5.000000</td>\n",
       "      <td>0.000000</td>\n",
       "      <td>20.000000</td>\n",
       "      <td>0.000000</td>\n",
       "    </tr>\n",
       "    <tr>\n",
       "      <th>25%</th>\n",
       "      <td>1625.568229</td>\n",
       "      <td>3.000000</td>\n",
       "      <td>4.00000</td>\n",
       "      <td>8.000000</td>\n",
       "      <td>10.000000</td>\n",
       "      <td>3.000000</td>\n",
       "      <td>28.052567</td>\n",
       "      <td>30.306660</td>\n",
       "    </tr>\n",
       "    <tr>\n",
       "      <th>50%</th>\n",
       "      <td>3093.745000</td>\n",
       "      <td>6.000000</td>\n",
       "      <td>5.00000</td>\n",
       "      <td>13.000000</td>\n",
       "      <td>18.000000</td>\n",
       "      <td>6.000000</td>\n",
       "      <td>32.305784</td>\n",
       "      <td>69.249473</td>\n",
       "    </tr>\n",
       "    <tr>\n",
       "      <th>75%</th>\n",
       "      <td>5957.448333</td>\n",
       "      <td>7.000000</td>\n",
       "      <td>7.00000</td>\n",
       "      <td>20.000000</td>\n",
       "      <td>28.000000</td>\n",
       "      <td>9.000000</td>\n",
       "      <td>36.496663</td>\n",
       "      <td>161.224249</td>\n",
       "    </tr>\n",
       "    <tr>\n",
       "      <th>max</th>\n",
       "      <td>15204.633333</td>\n",
       "      <td>1798.000000</td>\n",
       "      <td>1499.00000</td>\n",
       "      <td>5797.000000</td>\n",
       "      <td>67.000000</td>\n",
       "      <td>2597.000000</td>\n",
       "      <td>50.000000</td>\n",
       "      <td>82331.000000</td>\n",
       "    </tr>\n",
       "  </tbody>\n",
       "</table>\n",
       "</div>"
      ],
      "text/plain": [
       "       Monthly_Inhand_Salary  Num_Bank_Accounts  Num_Credit_Card  \\\n",
       "count           84998.000000      100000.000000     100000.00000   \n",
       "mean             4194.170850          17.091280         22.47443   \n",
       "std              3183.686167         117.404834        129.05741   \n",
       "min               303.645417          -1.000000          0.00000   \n",
       "25%              1625.568229           3.000000          4.00000   \n",
       "50%              3093.745000           6.000000          5.00000   \n",
       "75%              5957.448333           7.000000          7.00000   \n",
       "max             15204.633333        1798.000000       1499.00000   \n",
       "\n",
       "       Interest_Rate  Delay_from_due_date  Num_Credit_Inquiries  \\\n",
       "count  100000.000000        100000.000000          98035.000000   \n",
       "mean       72.466040            21.068780             27.754251   \n",
       "std       466.422621            14.860104            193.177339   \n",
       "min         1.000000            -5.000000              0.000000   \n",
       "25%         8.000000            10.000000              3.000000   \n",
       "50%        13.000000            18.000000              6.000000   \n",
       "75%        20.000000            28.000000              9.000000   \n",
       "max      5797.000000            67.000000           2597.000000   \n",
       "\n",
       "       Credit_Utilization_Ratio  Total_EMI_per_month  \n",
       "count             100000.000000        100000.000000  \n",
       "mean                  32.285173          1403.118217  \n",
       "std                    5.116875          8306.041270  \n",
       "min                   20.000000             0.000000  \n",
       "25%                   28.052567            30.306660  \n",
       "50%                   32.305784            69.249473  \n",
       "75%                   36.496663           161.224249  \n",
       "max                   50.000000         82331.000000  "
      ]
     },
     "execution_count": 528,
     "metadata": {},
     "output_type": "execute_result"
    }
   ],
   "source": [
    "data_training.describe()"
   ]
  },
  {
   "cell_type": "markdown",
   "metadata": {},
   "source": [
    "From this basic statistical information, it's apparent that there may be outliers in the dataset. This suspicion arises from the substantial differences between the mean and standard deviation in certain features, such as Total EMI per month, Interest Rate, and Number of Bank Accounts. Additionally, comparing the minimum and maximum values across features highlights significant gaps, further suggesting the presence of outliers in the data. Identifying and addressing these outliers may be crucial for ensuring the accuracy and reliability of subsequent analyses or modeling efforts."
   ]
  },
  {
   "cell_type": "markdown",
   "metadata": {},
   "source": [
    "# Handling Missing Values"
   ]
  },
  {
   "cell_type": "markdown",
   "metadata": {},
   "source": [
    "- **Traning Data**"
   ]
  },
  {
   "cell_type": "code",
   "execution_count": 529,
   "metadata": {},
   "outputs": [
    {
     "data": {
      "text/plain": [
       "Name                        9.98\n",
       "Monthly_Inhand_Salary      15.00\n",
       "Type_of_Loan               11.41\n",
       "Num_of_Delayed_Payment      7.00\n",
       "Num_Credit_Inquiries        1.96\n",
       "Credit_History_Age          9.03\n",
       "Amount_invested_monthly     4.48\n",
       "Monthly_Balance             1.20\n",
       "dtype: float64"
      ]
     },
     "execution_count": 529,
     "metadata": {},
     "output_type": "execute_result"
    }
   ],
   "source": [
    "null_columns = data_training.columns[data_training.isnull().any()]\n",
    "round(data_training[null_columns].isnull().sum()/data_training.shape[0]*100,2)"
   ]
  },
  {
   "cell_type": "markdown",
   "metadata": {},
   "source": [
    "- **Testing Data**"
   ]
  },
  {
   "cell_type": "code",
   "execution_count": 530,
   "metadata": {},
   "outputs": [
    {
     "data": {
      "text/plain": [
       "Name                       10.03\n",
       "Monthly_Inhand_Salary      15.00\n",
       "Type_of_Loan               11.41\n",
       "Num_of_Delayed_Payment      7.00\n",
       "Num_Credit_Inquiries        2.07\n",
       "Credit_History_Age          8.94\n",
       "Amount_invested_monthly     4.54\n",
       "Monthly_Balance             1.12\n",
       "dtype: float64"
      ]
     },
     "execution_count": 530,
     "metadata": {},
     "output_type": "execute_result"
    }
   ],
   "source": [
    "null_columns = data_testing.columns[data_testing.isnull().any()]\n",
    "round(data_testing[null_columns].isnull().sum()/data_testing.shape[0]*100,2)"
   ]
  },
  {
   "cell_type": "code",
   "execution_count": 531,
   "metadata": {},
   "outputs": [
    {
     "name": "stdout",
     "output_type": "stream",
     "text": [
      "If we drop NaN values for all columns, we're going to lose 46.95% of the data.\n"
     ]
    }
   ],
   "source": [
    "# calculat how much we going to loss if we drop the NaN values from all columns using dropna function\n",
    "def we_loss(data):\n",
    "    copy = data.copy()\n",
    "    shape = copy.shape[0]\n",
    "    copy.dropna(inplace=True)\n",
    "    count = round(((shape - copy.shape[0]) / shape) * 100, 2)\n",
    "    return count\n",
    "loss = we_loss(data_training)\n",
    "print(f\"If we drop NaN values for all columns, we're going to lose {loss}% of the data.\")"
   ]
  },
  {
   "cell_type": "code",
   "execution_count": 532,
   "metadata": {},
   "outputs": [
    {
     "name": "stdout",
     "output_type": "stream",
     "text": [
      "If we drop NaN values for all columns, we're going to lose 47.08% of the data.\n"
     ]
    }
   ],
   "source": [
    "# calculat how much we going to loss if we drop the NaN values from all columns using dropna function in the test data\n",
    "def we_loss(data):\n",
    "    copy = data.copy()\n",
    "    shape = copy.shape[0]\n",
    "    copy.dropna(inplace=True)\n",
    "    count = round(((shape - copy.shape[0]) / shape) * 100, 2)\n",
    "    return count\n",
    "loss = we_loss(data_testing)\n",
    "print(f\"If we drop NaN values for all columns, we're going to lose {loss}% of the data.\")"
   ]
  },
  {
   "cell_type": "markdown",
   "metadata": {},
   "source": [
    "With 8 columns containing NaN values, dropping them directly could result in losing a significant portion of the data. Hence, a more prudent approach would be to handle these NaN values individually for each column by filling them with appropriate values."
   ]
  },
  {
   "cell_type": "markdown",
   "metadata": {},
   "source": [
    "**Name column**"
   ]
  },
  {
   "cell_type": "code",
   "execution_count": 533,
   "metadata": {},
   "outputs": [],
   "source": [
    "# sense we have 9% of massing value in the Name column we going to fill them with mode\n",
    "data_training['Name'] = data_training['Name'].fillna(data_training['Name'].mode()[0])\n",
    "\n",
    "# sense we have 10% of massing value in the Name column we going to fill them with mode\n",
    "data_testing['Name'] = data_testing['Name'].fillna(data_testing['Name'].mode()[0])"
   ]
  },
  {
   "cell_type": "markdown",
   "metadata": {},
   "source": [
    "**Monthly_Inhand_Salary**"
   ]
  },
  {
   "cell_type": "markdown",
   "metadata": {},
   "source": [
    "we have 15% of missing value for Monthly_Inhand_Salary so the beter way is to impute the missing values based on average salaries for similar occupation positions "
   ]
  },
  {
   "cell_type": "code",
   "execution_count": 534,
   "metadata": {},
   "outputs": [
    {
     "data": {
      "text/plain": [
       "array(['Scientist', '_______', 'Teacher', 'Engineer', 'Entrepreneur',\n",
       "       'Developer', 'Lawyer', 'Media_Manager', 'Doctor', 'Journalist',\n",
       "       'Manager', 'Accountant', 'Musician', 'Mechanic', 'Writer',\n",
       "       'Architect'], dtype=object)"
      ]
     },
     "execution_count": 534,
     "metadata": {},
     "output_type": "execute_result"
    }
   ],
   "source": [
    "data_training['Occupation'].unique()"
   ]
  },
  {
   "cell_type": "code",
   "execution_count": 535,
   "metadata": {},
   "outputs": [],
   "source": [
    "occupation_traning = data_training['Occupation'].unique()\n",
    "\n",
    "for occ in occupation_traning:\n",
    "    mask = data_training['Occupation'] == occ\n",
    "    mean_salary = data_training.loc[mask, 'Monthly_Inhand_Salary'].mean()\n",
    "    data_training.loc[mask, 'Monthly_Inhand_Salary'] = data_training.loc[mask, 'Monthly_Inhand_Salary'].fillna(mean_salary)\n"
   ]
  },
  {
   "cell_type": "code",
   "execution_count": 536,
   "metadata": {},
   "outputs": [],
   "source": [
    "occupation_testing = data_testing['Occupation'].unique()\n",
    "\n",
    "for occ in occupation_testing:\n",
    "    mask = data_testing['Occupation'] == occ\n",
    "    mean_salary = data_testing.loc[mask, 'Monthly_Inhand_Salary'].mean()\n",
    "    data_testing.loc[mask, 'Monthly_Inhand_Salary'] = data_testing.loc[mask, 'Monthly_Inhand_Salary'].fillna(mean_salary)\n"
   ]
  },
  {
   "cell_type": "markdown",
   "metadata": {},
   "source": [
    "**Type_of_Loan**"
   ]
  },
  {
   "cell_type": "code",
   "execution_count": 537,
   "metadata": {},
   "outputs": [
    {
     "data": {
      "text/plain": [
       "array(['Auto Loan, Credit-Builder Loan, Personal Loan, and Home Equity Loan',\n",
       "       'Credit-Builder Loan', 'Auto Loan, Auto Loan, and Not Specified',\n",
       "       ..., 'Home Equity Loan, Auto Loan, Auto Loan, and Auto Loan',\n",
       "       'Payday Loan, Student Loan, Mortgage Loan, and Not Specified',\n",
       "       'Personal Loan, Auto Loan, Mortgage Loan, Student Loan, and Student Loan'],\n",
       "      dtype=object)"
      ]
     },
     "execution_count": 537,
     "metadata": {},
     "output_type": "execute_result"
    }
   ],
   "source": [
    "data_training['Type_of_Loan'].unique()"
   ]
  },
  {
   "cell_type": "code",
   "execution_count": 538,
   "metadata": {},
   "outputs": [
    {
     "data": {
      "text/plain": [
       "6261"
      ]
     },
     "execution_count": 538,
     "metadata": {},
     "output_type": "execute_result"
    }
   ],
   "source": [
    "#calculat how much diferent Type_of_Loan we have\n",
    "len(data_training['Type_of_Loan'].unique())"
   ]
  },
  {
   "cell_type": "code",
   "execution_count": 539,
   "metadata": {},
   "outputs": [
    {
     "data": {
      "text/plain": [
       "0    Not Specified\n",
       "Name: Type_of_Loan, dtype: object"
      ]
     },
     "execution_count": 539,
     "metadata": {},
     "output_type": "execute_result"
    }
   ],
   "source": [
    "data_training['Type_of_Loan'].mode()"
   ]
  },
  {
   "cell_type": "code",
   "execution_count": 540,
   "metadata": {},
   "outputs": [
    {
     "data": {
      "text/plain": [
       "0    Not Specified\n",
       "Name: Type_of_Loan, dtype: object"
      ]
     },
     "execution_count": 540,
     "metadata": {},
     "output_type": "execute_result"
    }
   ],
   "source": [
    "data_testing['Type_of_Loan'].mode()"
   ]
  },
  {
   "cell_type": "markdown",
   "metadata": {},
   "source": [
    "We have identified that 11% of the entries in the 'Type_of_Loan' column are missing. Given that there are 6261 unique values in this column, the most common value, which also represents the mode, is 'Not Specified'. Therefore, it is reasonable to fill the missing values in the 'Type_of_Loan' column with 'Not Specified' to maintain consistency and minimize data loss."
   ]
  },
  {
   "cell_type": "code",
   "execution_count": 541,
   "metadata": {},
   "outputs": [],
   "source": [
    "data_training['Type_of_Loan'] = data_training['Type_of_Loan'].fillna('Not Specified')\n",
    "\n",
    "# for testing data\n",
    "data_testing['Type_of_Loan'] = data_testing['Type_of_Loan'].fillna('Not Specified')"
   ]
  },
  {
   "cell_type": "markdown",
   "metadata": {},
   "source": [
    "**Num_of_Delayed_Payment**"
   ]
  },
  {
   "cell_type": "markdown",
   "metadata": {},
   "source": [
    "We've observed that there are 7% missing values in the 'Num_of_Delayed_Payment' column. Additionally, it appears that this column is represented as an object datatype. Given this situation, we'll fill the missing values in this column with 0 to ensure data integrity and consistency."
   ]
  },
  {
   "cell_type": "code",
   "execution_count": 542,
   "metadata": {},
   "outputs": [],
   "source": [
    "#data_training['Num_of_Delayed_Payment'].fillna(data_training['Num_of_Delayed_Payment'].mode()[0], inplace=True)\n",
    "data_training.fillna({'Num_of_Delayed_Payment':data_training['Num_of_Delayed_Payment'].mode()[0]}, inplace=True)\n",
    "\n",
    "#for testing data\n",
    "data_testing.fillna({'Num_of_Delayed_Payment':data_testing['Num_of_Delayed_Payment'].mode()[0]}, inplace=True)"
   ]
  },
  {
   "cell_type": "markdown",
   "metadata": {},
   "source": [
    "**Num_Credit_Inquiries**"
   ]
  },
  {
   "cell_type": "markdown",
   "metadata": {},
   "source": [
    "we have almost 2% of missing value so we fill them with 0 only to kep the data and not los any information"
   ]
  },
  {
   "cell_type": "code",
   "execution_count": 543,
   "metadata": {},
   "outputs": [],
   "source": [
    "# we fill this column with 0\n",
    "data_training.fillna({\"Num_Credit_Inquiries\":0},inplace=True)\n",
    "\n",
    "#for testing data\n",
    "data_testing.fillna({\"Num_Credit_Inquiries\":0},inplace=True)"
   ]
  },
  {
   "cell_type": "markdown",
   "metadata": {},
   "source": [
    "**Credit_History_Age**"
   ]
  },
  {
   "cell_type": "markdown",
   "metadata": {},
   "source": [
    "Since Credit_History_Age likely represents a str value, we can fill the missing values with the mode of the column, depending on the Occupation of the customers"
   ]
  },
  {
   "cell_type": "code",
   "execution_count": 544,
   "metadata": {},
   "outputs": [],
   "source": [
    "occupation = data_training['Occupation'].unique()\n",
    "\n",
    "for occ in occupation:\n",
    "    mask = data_training['Occupation'] == occ\n",
    "    mean_salary = data_training.loc[mask, 'Credit_History_Age'].mode()[0]\n",
    "    data_training.loc[mask, 'Credit_History_Age'] = data_training.loc[mask, 'Credit_History_Age'].fillna(mean_salary)\n"
   ]
  },
  {
   "cell_type": "code",
   "execution_count": 545,
   "metadata": {},
   "outputs": [],
   "source": [
    "# for testing data\n",
    "occupation_testing = data_testing['Occupation'].unique()\n",
    "\n",
    "for occ in occupation_testing:\n",
    "    mask = data_testing['Occupation'] == occ\n",
    "    mean_salary = data_testing.loc[mask, 'Credit_History_Age'].mode()[0]\n",
    "    data_testing.loc[mask, 'Credit_History_Age'] = data_testing.loc[mask, 'Credit_History_Age'].fillna(mean_salary)\n"
   ]
  },
  {
   "cell_type": "markdown",
   "metadata": {},
   "source": [
    "**Amount_invested_monthly**"
   ]
  },
  {
   "cell_type": "markdown",
   "metadata": {},
   "source": [
    "fill this column with 0"
   ]
  },
  {
   "cell_type": "code",
   "execution_count": 546,
   "metadata": {},
   "outputs": [],
   "source": [
    "# we fill this column with 0\n",
    "data_training.fillna({\"Amount_invested_monthly\":\"0\"},inplace=True)\n",
    "\n",
    "# for testing data\n",
    "data_testing.fillna({\"Amount_invested_monthly\":\"0\"},inplace=True)"
   ]
  },
  {
   "cell_type": "markdown",
   "metadata": {},
   "source": [
    "**Monthly_Balance**"
   ]
  },
  {
   "cell_type": "code",
   "execution_count": 547,
   "metadata": {},
   "outputs": [],
   "source": [
    "# we fill this column with 0\n",
    "data_training.fillna({\"Monthly_Balance\":\"0\"},inplace=True)\n",
    "\n",
    "#for testing data\n",
    "data_testing.fillna({\"Monthly_Balance\":\"0\"},inplace=True)"
   ]
  },
  {
   "cell_type": "markdown",
   "metadata": {},
   "source": [
    "#### Check if we still have any missing values in the data"
   ]
  },
  {
   "cell_type": "code",
   "execution_count": 548,
   "metadata": {},
   "outputs": [
    {
     "data": {
      "text/plain": [
       "Series([], dtype: float64)"
      ]
     },
     "execution_count": 548,
     "metadata": {},
     "output_type": "execute_result"
    }
   ],
   "source": [
    "null_columns = data_training.columns[data_training.isnull().any()]\n",
    "round(data_training[null_columns].isnull().sum()/data_training.shape[0]*100,2)"
   ]
  },
  {
   "cell_type": "code",
   "execution_count": 549,
   "metadata": {},
   "outputs": [
    {
     "data": {
      "text/plain": [
       "Series([], dtype: float64)"
      ]
     },
     "execution_count": 549,
     "metadata": {},
     "output_type": "execute_result"
    }
   ],
   "source": [
    "#check for testing data\n",
    "null_columns = data_testing.columns[data_testing.isnull().any()]\n",
    "round(data_testing[null_columns].isnull().sum()/data_testing.shape[0]*100,2)"
   ]
  },
  {
   "cell_type": "markdown",
   "metadata": {},
   "source": [
    "# Data Cleaning"
   ]
  },
  {
   "cell_type": "markdown",
   "metadata": {},
   "source": [
    "#### - **Check for duplicate**"
   ]
  },
  {
   "cell_type": "code",
   "execution_count": 550,
   "metadata": {},
   "outputs": [
    {
     "data": {
      "text/html": [
       "<div>\n",
       "<style scoped>\n",
       "    .dataframe tbody tr th:only-of-type {\n",
       "        vertical-align: middle;\n",
       "    }\n",
       "\n",
       "    .dataframe tbody tr th {\n",
       "        vertical-align: top;\n",
       "    }\n",
       "\n",
       "    .dataframe thead th {\n",
       "        text-align: right;\n",
       "    }\n",
       "</style>\n",
       "<table border=\"1\" class=\"dataframe\">\n",
       "  <thead>\n",
       "    <tr style=\"text-align: right;\">\n",
       "      <th></th>\n",
       "      <th>ID</th>\n",
       "      <th>Customer_ID</th>\n",
       "      <th>Month</th>\n",
       "      <th>Name</th>\n",
       "      <th>Age</th>\n",
       "      <th>SSN</th>\n",
       "      <th>Occupation</th>\n",
       "      <th>Annual_Income</th>\n",
       "      <th>Monthly_Inhand_Salary</th>\n",
       "      <th>Num_Bank_Accounts</th>\n",
       "      <th>...</th>\n",
       "      <th>Credit_Mix</th>\n",
       "      <th>Outstanding_Debt</th>\n",
       "      <th>Credit_Utilization_Ratio</th>\n",
       "      <th>Credit_History_Age</th>\n",
       "      <th>Payment_of_Min_Amount</th>\n",
       "      <th>Total_EMI_per_month</th>\n",
       "      <th>Amount_invested_monthly</th>\n",
       "      <th>Payment_Behaviour</th>\n",
       "      <th>Monthly_Balance</th>\n",
       "      <th>Credit_Score</th>\n",
       "    </tr>\n",
       "  </thead>\n",
       "  <tbody>\n",
       "  </tbody>\n",
       "</table>\n",
       "<p>0 rows × 28 columns</p>\n",
       "</div>"
      ],
      "text/plain": [
       "Empty DataFrame\n",
       "Columns: [ID, Customer_ID, Month, Name, Age, SSN, Occupation, Annual_Income, Monthly_Inhand_Salary, Num_Bank_Accounts, Num_Credit_Card, Interest_Rate, Num_of_Loan, Type_of_Loan, Delay_from_due_date, Num_of_Delayed_Payment, Changed_Credit_Limit, Num_Credit_Inquiries, Credit_Mix, Outstanding_Debt, Credit_Utilization_Ratio, Credit_History_Age, Payment_of_Min_Amount, Total_EMI_per_month, Amount_invested_monthly, Payment_Behaviour, Monthly_Balance, Credit_Score]\n",
       "Index: []\n",
       "\n",
       "[0 rows x 28 columns]"
      ]
     },
     "execution_count": 550,
     "metadata": {},
     "output_type": "execute_result"
    }
   ],
   "source": [
    "data_training[data_training.duplicated()]"
   ]
  },
  {
   "cell_type": "code",
   "execution_count": 551,
   "metadata": {},
   "outputs": [
    {
     "name": "stderr",
     "output_type": "stream",
     "text": [
      "C:\\Users\\ismai\\AppData\\Local\\Temp\\ipykernel_14952\\1326386498.py:2: UserWarning: Boolean Series key will be reindexed to match DataFrame index.\n",
      "  data_testing[data_training.duplicated()]\n"
     ]
    },
    {
     "data": {
      "text/html": [
       "<div>\n",
       "<style scoped>\n",
       "    .dataframe tbody tr th:only-of-type {\n",
       "        vertical-align: middle;\n",
       "    }\n",
       "\n",
       "    .dataframe tbody tr th {\n",
       "        vertical-align: top;\n",
       "    }\n",
       "\n",
       "    .dataframe thead th {\n",
       "        text-align: right;\n",
       "    }\n",
       "</style>\n",
       "<table border=\"1\" class=\"dataframe\">\n",
       "  <thead>\n",
       "    <tr style=\"text-align: right;\">\n",
       "      <th></th>\n",
       "      <th>ID</th>\n",
       "      <th>Customer_ID</th>\n",
       "      <th>Month</th>\n",
       "      <th>Name</th>\n",
       "      <th>Age</th>\n",
       "      <th>SSN</th>\n",
       "      <th>Occupation</th>\n",
       "      <th>Annual_Income</th>\n",
       "      <th>Monthly_Inhand_Salary</th>\n",
       "      <th>Num_Bank_Accounts</th>\n",
       "      <th>...</th>\n",
       "      <th>Num_Credit_Inquiries</th>\n",
       "      <th>Credit_Mix</th>\n",
       "      <th>Outstanding_Debt</th>\n",
       "      <th>Credit_Utilization_Ratio</th>\n",
       "      <th>Credit_History_Age</th>\n",
       "      <th>Payment_of_Min_Amount</th>\n",
       "      <th>Total_EMI_per_month</th>\n",
       "      <th>Amount_invested_monthly</th>\n",
       "      <th>Payment_Behaviour</th>\n",
       "      <th>Monthly_Balance</th>\n",
       "    </tr>\n",
       "  </thead>\n",
       "  <tbody>\n",
       "  </tbody>\n",
       "</table>\n",
       "<p>0 rows × 27 columns</p>\n",
       "</div>"
      ],
      "text/plain": [
       "Empty DataFrame\n",
       "Columns: [ID, Customer_ID, Month, Name, Age, SSN, Occupation, Annual_Income, Monthly_Inhand_Salary, Num_Bank_Accounts, Num_Credit_Card, Interest_Rate, Num_of_Loan, Type_of_Loan, Delay_from_due_date, Num_of_Delayed_Payment, Changed_Credit_Limit, Num_Credit_Inquiries, Credit_Mix, Outstanding_Debt, Credit_Utilization_Ratio, Credit_History_Age, Payment_of_Min_Amount, Total_EMI_per_month, Amount_invested_monthly, Payment_Behaviour, Monthly_Balance]\n",
       "Index: []\n",
       "\n",
       "[0 rows x 27 columns]"
      ]
     },
     "execution_count": 551,
     "metadata": {},
     "output_type": "execute_result"
    }
   ],
   "source": [
    "# testing data\n",
    "data_testing[data_training.duplicated()]"
   ]
  },
  {
   "cell_type": "markdown",
   "metadata": {},
   "source": [
    "#### - **Data Type Conversion**"
   ]
  },
  {
   "cell_type": "markdown",
   "metadata": {},
   "source": [
    "We have some columns that need to be converted to their original data types. For example, the Age column is currently represented as an object instead of an integer, and the annual income column is also in an incorrect format."
   ]
  },
  {
   "cell_type": "code",
   "execution_count": 552,
   "metadata": {},
   "outputs": [],
   "source": [
    "non_numeric = ['Age','Annual_Income','Num_of_Loan','Num_of_Delayed_Payment','Changed_Credit_Limit',\n",
    "                'Outstanding_Debt','Amount_invested_monthly','Monthly_Balance']\n",
    "def clean_and_convert(value):\n",
    "    # Remove non-numeric characters except for the decimal point\n",
    "    cleaned_value = re.sub(r'[^\\d.]', '', str(value))\n",
    "    # Convert the cleaned value to a floating-point number, handling non-finite values\n",
    "    try:\n",
    "        return float(cleaned_value)\n",
    "    except ValueError:\n",
    "        return np.nan  # Return NaN for non-finite values\n",
    "\n"
   ]
  },
  {
   "cell_type": "code",
   "execution_count": 553,
   "metadata": {},
   "outputs": [],
   "source": [
    "# Apply the function\n",
    "for col in non_numeric:\n",
    "    # Remove non-numeric characters and convert to floating-point numbers\n",
    "    data_training[col] = data_training[col].apply(clean_and_convert)\n"
   ]
  },
  {
   "cell_type": "code",
   "execution_count": 554,
   "metadata": {},
   "outputs": [],
   "source": [
    "# for testing data\n",
    "# Apply the function\n",
    "for col in non_numeric:\n",
    "    # Remove non-numeric characters and convert to floating-point numbers\n",
    "    data_testing[col] = data_testing[col].apply(clean_and_convert)\n"
   ]
  },
  {
   "cell_type": "code",
   "execution_count": 555,
   "metadata": {},
   "outputs": [],
   "source": [
    "# Fill NaN values with 0 before converting to integers\n",
    "data_training[non_numeric] = data_training[non_numeric].fillna(0)\n",
    "\n",
    "# for testing data\n",
    "data_training[non_numeric] = data_training[non_numeric].fillna(0)"
   ]
  },
  {
   "cell_type": "code",
   "execution_count": 556,
   "metadata": {},
   "outputs": [
    {
     "name": "stdout",
     "output_type": "stream",
     "text": [
      "<class 'pandas.core.frame.DataFrame'>\n",
      "RangeIndex: 100000 entries, 0 to 99999\n",
      "Data columns (total 28 columns):\n",
      " #   Column                    Non-Null Count   Dtype  \n",
      "---  ------                    --------------   -----  \n",
      " 0   ID                        100000 non-null  object \n",
      " 1   Customer_ID               100000 non-null  object \n",
      " 2   Month                     100000 non-null  object \n",
      " 3   Name                      100000 non-null  object \n",
      " 4   Age                       100000 non-null  float64\n",
      " 5   SSN                       100000 non-null  object \n",
      " 6   Occupation                100000 non-null  object \n",
      " 7   Annual_Income             100000 non-null  float64\n",
      " 8   Monthly_Inhand_Salary     100000 non-null  float64\n",
      " 9   Num_Bank_Accounts         100000 non-null  int64  \n",
      " 10  Num_Credit_Card           100000 non-null  int64  \n",
      " 11  Interest_Rate             100000 non-null  int64  \n",
      " 12  Num_of_Loan               100000 non-null  float64\n",
      " 13  Type_of_Loan              100000 non-null  object \n",
      " 14  Delay_from_due_date       100000 non-null  int64  \n",
      " 15  Num_of_Delayed_Payment    100000 non-null  float64\n",
      " 16  Changed_Credit_Limit      100000 non-null  float64\n",
      " 17  Num_Credit_Inquiries      100000 non-null  float64\n",
      " 18  Credit_Mix                100000 non-null  object \n",
      " 19  Outstanding_Debt          100000 non-null  float64\n",
      " 20  Credit_Utilization_Ratio  100000 non-null  float64\n",
      " 21  Credit_History_Age        100000 non-null  object \n",
      " 22  Payment_of_Min_Amount     100000 non-null  object \n",
      " 23  Total_EMI_per_month       100000 non-null  float64\n",
      " 24  Amount_invested_monthly   100000 non-null  float64\n",
      " 25  Payment_Behaviour         100000 non-null  object \n",
      " 26  Monthly_Balance           100000 non-null  float64\n",
      " 27  Credit_Score              100000 non-null  object \n",
      "dtypes: float64(12), int64(4), object(12)\n",
      "memory usage: 21.4+ MB\n"
     ]
    }
   ],
   "source": [
    "data_training.info()"
   ]
  },
  {
   "cell_type": "code",
   "execution_count": 557,
   "metadata": {},
   "outputs": [],
   "source": [
    "# Convert the columns to integers\n",
    "#data_training[non_numeric] = data_training[non_numeric].astype(float)"
   ]
  },
  {
   "cell_type": "markdown",
   "metadata": {},
   "source": [
    "**Now, we will examine each column that we are likely to need for building our machine learning models. We will check for any issues in data entry or other errors that might require correction.**"
   ]
  },
  {
   "cell_type": "markdown",
   "metadata": {},
   "source": [
    "- we start with numerical columns"
   ]
  },
  {
   "cell_type": "code",
   "execution_count": 558,
   "metadata": {},
   "outputs": [
    {
     "name": "stdout",
     "output_type": "stream",
     "text": [
      "Column 'Num_Bank_Accounts' contains 21 non-numeric values.\n",
      "Column 'Num_Bank_Accounts' contains 21 negative values.\n",
      "\n",
      "Column 'Delay_from_due_date' contains 591 non-numeric values.\n",
      "Column 'Delay_from_due_date' contains 591 negative values.\n",
      "\n",
      "Column 'Monthly_Balance' contains 9 non-numeric values.\n",
      "Column 'Monthly_Balance' contains 0 negative values.\n",
      "\n"
     ]
    }
   ],
   "source": [
    "# List of columns to check\n",
    "columns_to_check = data_training.select_dtypes(exclude='object').columns\n",
    "\n",
    "# Function to count non-numeric values and negative values in each column\n",
    "def count_non_numeric_and_negative(df, columns):\n",
    "    for col in columns:\n",
    "        # Count non-numeric values\n",
    "        non_numeric_count = df[~df[col].apply(lambda x: str(x).replace('.', '', 1).isdigit())].shape[0]\n",
    "        \n",
    "        # Count negative values\n",
    "        negative_count = len(df[df[col] < 0])\n",
    "\n",
    "        # Display counts if there are any non-numeric or negative values\n",
    "        if non_numeric_count > 0 or negative_count > 0:\n",
    "            print(f\"Column '{col}' contains {non_numeric_count} non-numeric values.\")\n",
    "            print(f\"Column '{col}' contains {negative_count} negative values.\")\n",
    "            print('')\n",
    "\n",
    "# Call the function\n",
    "count_non_numeric_and_negative(data_training, columns_to_check)"
   ]
  },
  {
   "cell_type": "markdown",
   "metadata": {},
   "source": [
    "#### - we got 3 columns contain non numerical values or negative values"
   ]
  },
  {
   "cell_type": "code",
   "execution_count": 559,
   "metadata": {},
   "outputs": [
    {
     "name": "stdout",
     "output_type": "stream",
     "text": [
      "Column 'Num_Bank_Accounts' contains 16 non-numeric values.\n",
      "Column 'Num_Bank_Accounts' contains 16 negative values.\n",
      "\n",
      "Column 'Delay_from_due_date' contains 298 non-numeric values.\n",
      "Column 'Delay_from_due_date' contains 298 negative values.\n",
      "\n",
      "Column 'Changed_Credit_Limit' contains 1059 non-numeric values.\n",
      "Column 'Changed_Credit_Limit' contains 0 negative values.\n",
      "\n",
      "Column 'Monthly_Balance' contains 6 non-numeric values.\n",
      "Column 'Monthly_Balance' contains 0 negative values.\n",
      "\n"
     ]
    }
   ],
   "source": [
    "# for testing data\n",
    "columns_to_check_test = data_testing.select_dtypes(exclude='object').columns\n",
    "\n",
    "count_non_numeric_and_negative(data_testing, columns_to_check)"
   ]
  },
  {
   "cell_type": "markdown",
   "metadata": {},
   "source": [
    "**Num_Bank_Accounts**"
   ]
  },
  {
   "cell_type": "code",
   "execution_count": 560,
   "metadata": {},
   "outputs": [
    {
     "name": "stdout",
     "output_type": "stream",
     "text": [
      "(100000, 28)\n",
      "(50000, 27)\n"
     ]
    }
   ],
   "source": [
    "print(data_training.shape)\n",
    "print(data_testing.shape)"
   ]
  },
  {
   "cell_type": "code",
   "execution_count": 561,
   "metadata": {},
   "outputs": [],
   "source": [
    "# Remove rows with negative values in the 'Num_Bank_Accounts' column\n",
    "data_training = data_training[data_training['Num_Bank_Accounts'] > 0]\n",
    "\n",
    "# Filter rows with digit values in the 'Num_Bank_Accounts' column\n",
    "data_training = data_training[data_training['Num_Bank_Accounts'].apply(lambda x: str(x).isdigit())]"
   ]
  },
  {
   "cell_type": "code",
   "execution_count": 562,
   "metadata": {},
   "outputs": [],
   "source": [
    "#For testing data\n",
    "# Remove rows with negative values in the 'Num_Bank_Accounts' column\n",
    "data_testing = data_testing[data_testing['Num_Bank_Accounts'] > 0]\n",
    "\n",
    "# Filter rows with digit values in the 'Num_Bank_Accounts' column\n",
    "data_testing = data_testing[data_testing['Num_Bank_Accounts'].apply(lambda x: str(x).isdigit())]"
   ]
  },
  {
   "cell_type": "markdown",
   "metadata": {},
   "source": [
    "**Delay_from_due_date**"
   ]
  },
  {
   "cell_type": "code",
   "execution_count": 563,
   "metadata": {},
   "outputs": [],
   "source": [
    "# Filter rows with digit values in the 'Num_Bank_Accounts' column\n",
    "data_training = data_training[~data_training['Delay_from_due_date'].apply(lambda x: not str(x).replace('.', '', 1).isdigit())]\n",
    "\n",
    "# Remove rows with negative values in the 'Num_Bank_Accounts' column\n",
    "data_training = data_training[data_training['Delay_from_due_date'] >= 0]"
   ]
  },
  {
   "cell_type": "code",
   "execution_count": 564,
   "metadata": {},
   "outputs": [],
   "source": [
    "# for testing data\n",
    "data_testing = data_testing[~data_testing['Delay_from_due_date'].apply(lambda x: not str(x).replace('.', '', 1).isdigit())]\n",
    "data_testing = data_testing[data_testing['Delay_from_due_date'] >= 0]"
   ]
  },
  {
   "cell_type": "markdown",
   "metadata": {},
   "source": [
    "**Monthly_Balance**"
   ]
  },
  {
   "cell_type": "code",
   "execution_count": 565,
   "metadata": {},
   "outputs": [],
   "source": [
    "# Filter rows with digit values in the 'Num_Bank_Accounts' column\n",
    "data_training = data_training[~data_training['Delay_from_due_date'].apply(lambda x:not str(x).replace('.', '', 1).isdigit())]\n",
    "\n",
    "# Remove rows with negative values in the 'Num_Bank_Accounts' column\n",
    "data_training = data_training[data_training['Delay_from_due_date'] >= 0]"
   ]
  },
  {
   "cell_type": "code",
   "execution_count": 566,
   "metadata": {},
   "outputs": [],
   "source": [
    "# for testing data\n",
    "data_testing = data_testing[~data_testing['Delay_from_due_date'].apply(lambda x:not str(x).replace('.', '', 1).isdigit())]\n",
    "data_testing = data_testing[data_testing['Delay_from_due_date'] >= 0]"
   ]
  },
  {
   "cell_type": "markdown",
   "metadata": {},
   "source": [
    "**Now, we will examine the rest of the columns and check for any issues in data entry or other errors that might require correction.**"
   ]
  },
  {
   "cell_type": "markdown",
   "metadata": {},
   "source": [
    "**Month**"
   ]
  },
  {
   "cell_type": "code",
   "execution_count": 567,
   "metadata": {},
   "outputs": [
    {
     "data": {
      "text/plain": [
       "array(['January', 'March', 'April', 'May', 'June', 'July', 'August',\n",
       "       'February'], dtype=object)"
      ]
     },
     "execution_count": 567,
     "metadata": {},
     "output_type": "execute_result"
    }
   ],
   "source": [
    "# check the Month names\n",
    "data_training['Month'].unique()"
   ]
  },
  {
   "cell_type": "code",
   "execution_count": 568,
   "metadata": {},
   "outputs": [
    {
     "data": {
      "text/plain": [
       "array(['September', 'October', 'December', 'November'], dtype=object)"
      ]
     },
     "execution_count": 568,
     "metadata": {},
     "output_type": "execute_result"
    }
   ],
   "source": [
    "# for testing data\n",
    "# check the Month names\n",
    "data_testing['Month'].unique()"
   ]
  },
  {
   "cell_type": "markdown",
   "metadata": {},
   "source": [
    "**Age**"
   ]
  },
  {
   "cell_type": "code",
   "execution_count": 569,
   "metadata": {},
   "outputs": [],
   "source": [
    "# remove rows were the age gret than 120\n",
    "data_training = data_training[data_training['Age']<=120]"
   ]
  },
  {
   "cell_type": "code",
   "execution_count": 570,
   "metadata": {},
   "outputs": [],
   "source": [
    "# for testing data\n",
    "# remove rows were the age gret than 120\n",
    "data_testing = data_testing[data_testing['Age']<=120]"
   ]
  },
  {
   "cell_type": "markdown",
   "metadata": {},
   "source": [
    "**Occupation**"
   ]
  },
  {
   "cell_type": "code",
   "execution_count": 571,
   "metadata": {},
   "outputs": [
    {
     "data": {
      "text/plain": [
       "array(['Scientist', '_______', 'Teacher', 'Engineer', 'Entrepreneur',\n",
       "       'Developer', 'Lawyer', 'Media_Manager', 'Doctor', 'Journalist',\n",
       "       'Manager', 'Accountant', 'Musician', 'Mechanic', 'Writer',\n",
       "       'Architect'], dtype=object)"
      ]
     },
     "execution_count": 571,
     "metadata": {},
     "output_type": "execute_result"
    }
   ],
   "source": [
    "# check the unique Occupation for the customers\n",
    "data_training['Occupation'].unique()"
   ]
  },
  {
   "cell_type": "code",
   "execution_count": 572,
   "metadata": {},
   "outputs": [
    {
     "data": {
      "text/plain": [
       "array(['Scientist', '_______', 'Teacher', 'Engineer', 'Entrepreneur',\n",
       "       'Developer', 'Lawyer', 'Media_Manager', 'Doctor', 'Journalist',\n",
       "       'Manager', 'Accountant', 'Musician', 'Mechanic', 'Writer',\n",
       "       'Architect'], dtype=object)"
      ]
     },
     "execution_count": 572,
     "metadata": {},
     "output_type": "execute_result"
    }
   ],
   "source": [
    "# check test data\n",
    "# check the unique Occupation for the customers\n",
    "data_testing['Occupation'].unique()"
   ]
  },
  {
   "cell_type": "code",
   "execution_count": 573,
   "metadata": {},
   "outputs": [
    {
     "data": {
      "text/plain": [
       "6539"
      ]
     },
     "execution_count": 573,
     "metadata": {},
     "output_type": "execute_result"
    }
   ],
   "source": [
    "# check how many rows contain occupation like this '_______'\n",
    "len(data_training[data_training['Occupation']=='_______'])"
   ]
  },
  {
   "cell_type": "code",
   "execution_count": 574,
   "metadata": {},
   "outputs": [],
   "source": [
    "# we will fill the Occupations that contain underscores '_______' with the value 'non_specify\n",
    "data_training['Occupation'] = data_training['Occupation'].replace('_______', 'non_specify')"
   ]
  },
  {
   "cell_type": "code",
   "execution_count": 575,
   "metadata": {},
   "outputs": [],
   "source": [
    "# for test data\n",
    "# we will fill the Occupations that contain underscores '_______' with the value 'non_specify\n",
    "data_testing['Occupation'] = data_testing['Occupation'].replace('_______', 'non_specify')"
   ]
  },
  {
   "cell_type": "code",
   "execution_count": 576,
   "metadata": {},
   "outputs": [
    {
     "data": {
      "text/html": [
       "<div>\n",
       "<style scoped>\n",
       "    .dataframe tbody tr th:only-of-type {\n",
       "        vertical-align: middle;\n",
       "    }\n",
       "\n",
       "    .dataframe tbody tr th {\n",
       "        vertical-align: top;\n",
       "    }\n",
       "\n",
       "    .dataframe thead th {\n",
       "        text-align: right;\n",
       "    }\n",
       "</style>\n",
       "<table border=\"1\" class=\"dataframe\">\n",
       "  <thead>\n",
       "    <tr style=\"text-align: right;\">\n",
       "      <th></th>\n",
       "      <th>ID</th>\n",
       "      <th>Customer_ID</th>\n",
       "      <th>Month</th>\n",
       "      <th>Name</th>\n",
       "      <th>Age</th>\n",
       "      <th>SSN</th>\n",
       "      <th>Occupation</th>\n",
       "      <th>Annual_Income</th>\n",
       "      <th>Monthly_Inhand_Salary</th>\n",
       "      <th>Num_Bank_Accounts</th>\n",
       "      <th>...</th>\n",
       "      <th>Credit_Mix</th>\n",
       "      <th>Outstanding_Debt</th>\n",
       "      <th>Credit_Utilization_Ratio</th>\n",
       "      <th>Credit_History_Age</th>\n",
       "      <th>Payment_of_Min_Amount</th>\n",
       "      <th>Total_EMI_per_month</th>\n",
       "      <th>Amount_invested_monthly</th>\n",
       "      <th>Payment_Behaviour</th>\n",
       "      <th>Monthly_Balance</th>\n",
       "      <th>Credit_Score</th>\n",
       "    </tr>\n",
       "  </thead>\n",
       "  <tbody>\n",
       "  </tbody>\n",
       "</table>\n",
       "<p>0 rows × 28 columns</p>\n",
       "</div>"
      ],
      "text/plain": [
       "Empty DataFrame\n",
       "Columns: [ID, Customer_ID, Month, Name, Age, SSN, Occupation, Annual_Income, Monthly_Inhand_Salary, Num_Bank_Accounts, Num_Credit_Card, Interest_Rate, Num_of_Loan, Type_of_Loan, Delay_from_due_date, Num_of_Delayed_Payment, Changed_Credit_Limit, Num_Credit_Inquiries, Credit_Mix, Outstanding_Debt, Credit_Utilization_Ratio, Credit_History_Age, Payment_of_Min_Amount, Total_EMI_per_month, Amount_invested_monthly, Payment_Behaviour, Monthly_Balance, Credit_Score]\n",
       "Index: []\n",
       "\n",
       "[0 rows x 28 columns]"
      ]
     },
     "execution_count": 576,
     "metadata": {},
     "output_type": "execute_result"
    }
   ],
   "source": [
    "# check again\n",
    "data_training[data_training['Occupation']=='_______']"
   ]
  },
  {
   "cell_type": "markdown",
   "metadata": {},
   "source": [
    "**Type_of_Loan**"
   ]
  },
  {
   "cell_type": "markdown",
   "metadata": {},
   "source": [
    "We will prioritize the \"Type_of_Loan\" column when building our machine learning models."
   ]
  },
  {
   "cell_type": "code",
   "execution_count": 577,
   "metadata": {},
   "outputs": [
    {
     "data": {
      "text/plain": [
       "Type_of_Loan\n",
       "Not Specified                                                                               11303\n",
       "Personal Loan                                                                                1164\n",
       "Credit-Builder Loan                                                                          1164\n",
       "Debt Consolidation Loan                                                                      1122\n",
       "Student Loan                                                                                 1070\n",
       "                                                                                            ...  \n",
       "Home Equity Loan, Credit-Builder Loan, Auto Loan, and Home Equity Loan                          1\n",
       "Debt Consolidation Loan, Home Equity Loan, Personal Loan, and Personal Loan                     1\n",
       "Home Equity Loan, Debt Consolidation Loan, Home Equity Loan, and Debt Consolidation Loan        1\n",
       "Student Loan, Payday Loan, Personal Loan, and Student Loan                                      1\n",
       "Payday Loan, Auto Loan, Student Loan, and Not Specified                                         1\n",
       "Name: count, Length: 6200, dtype: int64"
      ]
     },
     "execution_count": 577,
     "metadata": {},
     "output_type": "execute_result"
    }
   ],
   "source": [
    "data_training['Type_of_Loan'].value_counts()"
   ]
  },
  {
   "cell_type": "code",
   "execution_count": 578,
   "metadata": {},
   "outputs": [],
   "source": [
    "# Create a new column to indicate if the loan type was specified\n",
    "data_training['Loan_Specified'] = data_training['Type_of_Loan'].apply(lambda x: 0 if 'Not Specified' in x else 1)"
   ]
  },
  {
   "cell_type": "code",
   "execution_count": 579,
   "metadata": {},
   "outputs": [
    {
     "data": {
      "text/html": [
       "<div>\n",
       "<style scoped>\n",
       "    .dataframe tbody tr th:only-of-type {\n",
       "        vertical-align: middle;\n",
       "    }\n",
       "\n",
       "    .dataframe tbody tr th {\n",
       "        vertical-align: top;\n",
       "    }\n",
       "\n",
       "    .dataframe thead th {\n",
       "        text-align: right;\n",
       "    }\n",
       "</style>\n",
       "<table border=\"1\" class=\"dataframe\">\n",
       "  <thead>\n",
       "    <tr style=\"text-align: right;\">\n",
       "      <th></th>\n",
       "      <th>Type_of_Loan</th>\n",
       "      <th>Loan_Specified</th>\n",
       "    </tr>\n",
       "  </thead>\n",
       "  <tbody>\n",
       "    <tr>\n",
       "      <th>0</th>\n",
       "      <td>Auto Loan, Credit-Builder Loan, Personal Loan,...</td>\n",
       "      <td>1</td>\n",
       "    </tr>\n",
       "    <tr>\n",
       "      <th>3</th>\n",
       "      <td>Auto Loan, Credit-Builder Loan, Personal Loan,...</td>\n",
       "      <td>1</td>\n",
       "    </tr>\n",
       "    <tr>\n",
       "      <th>4</th>\n",
       "      <td>Auto Loan, Credit-Builder Loan, Personal Loan,...</td>\n",
       "      <td>1</td>\n",
       "    </tr>\n",
       "    <tr>\n",
       "      <th>5</th>\n",
       "      <td>Auto Loan, Credit-Builder Loan, Personal Loan,...</td>\n",
       "      <td>1</td>\n",
       "    </tr>\n",
       "    <tr>\n",
       "      <th>6</th>\n",
       "      <td>Auto Loan, Credit-Builder Loan, Personal Loan,...</td>\n",
       "      <td>1</td>\n",
       "    </tr>\n",
       "    <tr>\n",
       "      <th>...</th>\n",
       "      <td>...</td>\n",
       "      <td>...</td>\n",
       "    </tr>\n",
       "    <tr>\n",
       "      <th>99995</th>\n",
       "      <td>Auto Loan, and Student Loan</td>\n",
       "      <td>1</td>\n",
       "    </tr>\n",
       "    <tr>\n",
       "      <th>99996</th>\n",
       "      <td>Auto Loan, and Student Loan</td>\n",
       "      <td>1</td>\n",
       "    </tr>\n",
       "    <tr>\n",
       "      <th>99997</th>\n",
       "      <td>Auto Loan, and Student Loan</td>\n",
       "      <td>1</td>\n",
       "    </tr>\n",
       "    <tr>\n",
       "      <th>99998</th>\n",
       "      <td>Auto Loan, and Student Loan</td>\n",
       "      <td>1</td>\n",
       "    </tr>\n",
       "    <tr>\n",
       "      <th>99999</th>\n",
       "      <td>Auto Loan, and Student Loan</td>\n",
       "      <td>1</td>\n",
       "    </tr>\n",
       "  </tbody>\n",
       "</table>\n",
       "<p>92518 rows × 2 columns</p>\n",
       "</div>"
      ],
      "text/plain": [
       "                                            Type_of_Loan  Loan_Specified\n",
       "0      Auto Loan, Credit-Builder Loan, Personal Loan,...               1\n",
       "3      Auto Loan, Credit-Builder Loan, Personal Loan,...               1\n",
       "4      Auto Loan, Credit-Builder Loan, Personal Loan,...               1\n",
       "5      Auto Loan, Credit-Builder Loan, Personal Loan,...               1\n",
       "6      Auto Loan, Credit-Builder Loan, Personal Loan,...               1\n",
       "...                                                  ...             ...\n",
       "99995                        Auto Loan, and Student Loan               1\n",
       "99996                        Auto Loan, and Student Loan               1\n",
       "99997                        Auto Loan, and Student Loan               1\n",
       "99998                        Auto Loan, and Student Loan               1\n",
       "99999                        Auto Loan, and Student Loan               1\n",
       "\n",
       "[92518 rows x 2 columns]"
      ]
     },
     "execution_count": 579,
     "metadata": {},
     "output_type": "execute_result"
    }
   ],
   "source": [
    "data_training.iloc[:,[13,-1]]"
   ]
  },
  {
   "cell_type": "code",
   "execution_count": 580,
   "metadata": {},
   "outputs": [],
   "source": [
    "# for testing data\n",
    "# Create a new column to indicate if the loan type was specified\n",
    "data_testing['Loan_Specified'] = data_testing['Type_of_Loan'].apply(lambda x: 0 if 'Not Specified' in x else 1)"
   ]
  },
  {
   "cell_type": "code",
   "execution_count": 581,
   "metadata": {},
   "outputs": [
    {
     "data": {
      "text/html": [
       "<div>\n",
       "<style scoped>\n",
       "    .dataframe tbody tr th:only-of-type {\n",
       "        vertical-align: middle;\n",
       "    }\n",
       "\n",
       "    .dataframe tbody tr th {\n",
       "        vertical-align: top;\n",
       "    }\n",
       "\n",
       "    .dataframe thead th {\n",
       "        text-align: right;\n",
       "    }\n",
       "</style>\n",
       "<table border=\"1\" class=\"dataframe\">\n",
       "  <thead>\n",
       "    <tr style=\"text-align: right;\">\n",
       "      <th></th>\n",
       "      <th>Type_of_Loan</th>\n",
       "      <th>Loan_Specified</th>\n",
       "    </tr>\n",
       "  </thead>\n",
       "  <tbody>\n",
       "    <tr>\n",
       "      <th>0</th>\n",
       "      <td>Auto Loan, Credit-Builder Loan, Personal Loan,...</td>\n",
       "      <td>1</td>\n",
       "    </tr>\n",
       "    <tr>\n",
       "      <th>1</th>\n",
       "      <td>Auto Loan, Credit-Builder Loan, Personal Loan,...</td>\n",
       "      <td>1</td>\n",
       "    </tr>\n",
       "    <tr>\n",
       "      <th>3</th>\n",
       "      <td>Auto Loan, Credit-Builder Loan, Personal Loan,...</td>\n",
       "      <td>1</td>\n",
       "    </tr>\n",
       "    <tr>\n",
       "      <th>4</th>\n",
       "      <td>Credit-Builder Loan</td>\n",
       "      <td>1</td>\n",
       "    </tr>\n",
       "    <tr>\n",
       "      <th>5</th>\n",
       "      <td>Credit-Builder Loan</td>\n",
       "      <td>1</td>\n",
       "    </tr>\n",
       "    <tr>\n",
       "      <th>...</th>\n",
       "      <td>...</td>\n",
       "      <td>...</td>\n",
       "    </tr>\n",
       "    <tr>\n",
       "      <th>49994</th>\n",
       "      <td>Personal Loan, Auto Loan, Mortgage Loan, Stude...</td>\n",
       "      <td>1</td>\n",
       "    </tr>\n",
       "    <tr>\n",
       "      <th>49996</th>\n",
       "      <td>Auto Loan, and Student Loan</td>\n",
       "      <td>1</td>\n",
       "    </tr>\n",
       "    <tr>\n",
       "      <th>49997</th>\n",
       "      <td>Auto Loan, and Student Loan</td>\n",
       "      <td>1</td>\n",
       "    </tr>\n",
       "    <tr>\n",
       "      <th>49998</th>\n",
       "      <td>Auto Loan, and Student Loan</td>\n",
       "      <td>1</td>\n",
       "    </tr>\n",
       "    <tr>\n",
       "      <th>49999</th>\n",
       "      <td>Auto Loan, and Student Loan</td>\n",
       "      <td>1</td>\n",
       "    </tr>\n",
       "  </tbody>\n",
       "</table>\n",
       "<p>46223 rows × 2 columns</p>\n",
       "</div>"
      ],
      "text/plain": [
       "                                            Type_of_Loan  Loan_Specified\n",
       "0      Auto Loan, Credit-Builder Loan, Personal Loan,...               1\n",
       "1      Auto Loan, Credit-Builder Loan, Personal Loan,...               1\n",
       "3      Auto Loan, Credit-Builder Loan, Personal Loan,...               1\n",
       "4                                    Credit-Builder Loan               1\n",
       "5                                    Credit-Builder Loan               1\n",
       "...                                                  ...             ...\n",
       "49994  Personal Loan, Auto Loan, Mortgage Loan, Stude...               1\n",
       "49996                        Auto Loan, and Student Loan               1\n",
       "49997                        Auto Loan, and Student Loan               1\n",
       "49998                        Auto Loan, and Student Loan               1\n",
       "49999                        Auto Loan, and Student Loan               1\n",
       "\n",
       "[46223 rows x 2 columns]"
      ]
     },
     "execution_count": 581,
     "metadata": {},
     "output_type": "execute_result"
    }
   ],
   "source": [
    "data_testing.iloc[:,[13,-1]]"
   ]
  },
  {
   "cell_type": "markdown",
   "metadata": {},
   "source": [
    "**Credit_Mix**"
   ]
  },
  {
   "cell_type": "code",
   "execution_count": 582,
   "metadata": {},
   "outputs": [
    {
     "data": {
      "text/plain": [
       "array(['_', 'Good', 'Standard', 'Bad'], dtype=object)"
      ]
     },
     "execution_count": 582,
     "metadata": {},
     "output_type": "execute_result"
    }
   ],
   "source": [
    "# training data\n",
    "data_training['Credit_Mix'].unique()"
   ]
  },
  {
   "cell_type": "code",
   "execution_count": 583,
   "metadata": {},
   "outputs": [
    {
     "data": {
      "text/plain": [
       "array(['Good', '_', 'Standard', 'Bad'], dtype=object)"
      ]
     },
     "execution_count": 583,
     "metadata": {},
     "output_type": "execute_result"
    }
   ],
   "source": [
    "# testing data\n",
    "data_testing['Credit_Mix'].unique()"
   ]
  },
  {
   "cell_type": "code",
   "execution_count": 584,
   "metadata": {},
   "outputs": [],
   "source": [
    "# we will fill the Credit_Mix that contain underscores '_' with the value 'non_specify\n",
    "data_training['Credit_Mix'] = data_training['Credit_Mix'].replace('_', 'non_specify')\n",
    "\n",
    "# for testing data\n",
    "data_testing['Credit_Mix'] = data_testing['Credit_Mix'].replace('_', 'non_specify')"
   ]
  },
  {
   "cell_type": "code",
   "execution_count": 585,
   "metadata": {},
   "outputs": [
    {
     "data": {
      "text/html": [
       "<div>\n",
       "<style scoped>\n",
       "    .dataframe tbody tr th:only-of-type {\n",
       "        vertical-align: middle;\n",
       "    }\n",
       "\n",
       "    .dataframe tbody tr th {\n",
       "        vertical-align: top;\n",
       "    }\n",
       "\n",
       "    .dataframe thead th {\n",
       "        text-align: right;\n",
       "    }\n",
       "</style>\n",
       "<table border=\"1\" class=\"dataframe\">\n",
       "  <thead>\n",
       "    <tr style=\"text-align: right;\">\n",
       "      <th></th>\n",
       "      <th>Credit_Mix</th>\n",
       "      <th>Outstanding_Debt</th>\n",
       "    </tr>\n",
       "  </thead>\n",
       "  <tbody>\n",
       "    <tr>\n",
       "      <th>0</th>\n",
       "      <td>non_specify</td>\n",
       "      <td>809.98</td>\n",
       "    </tr>\n",
       "    <tr>\n",
       "      <th>10</th>\n",
       "      <td>non_specify</td>\n",
       "      <td>605.03</td>\n",
       "    </tr>\n",
       "    <tr>\n",
       "      <th>19</th>\n",
       "      <td>non_specify</td>\n",
       "      <td>1303.01</td>\n",
       "    </tr>\n",
       "  </tbody>\n",
       "</table>\n",
       "</div>"
      ],
      "text/plain": [
       "     Credit_Mix  Outstanding_Debt\n",
       "0   non_specify            809.98\n",
       "10  non_specify            605.03\n",
       "19  non_specify           1303.01"
      ]
     },
     "execution_count": 585,
     "metadata": {},
     "output_type": "execute_result"
    }
   ],
   "source": [
    "data_training[data_training['Credit_Mix']=='non_specify'].iloc[:3,[18,19]]"
   ]
  },
  {
   "cell_type": "markdown",
   "metadata": {},
   "source": [
    "**Credit_History_Age**"
   ]
  },
  {
   "cell_type": "code",
   "execution_count": 586,
   "metadata": {},
   "outputs": [
    {
     "data": {
      "text/plain": [
       "0         22 Years and 1 Months\n",
       "3         22 Years and 4 Months\n",
       "4         22 Years and 5 Months\n",
       "5         22 Years and 6 Months\n",
       "6         22 Years and 7 Months\n",
       "                  ...          \n",
       "99995     31 Years and 6 Months\n",
       "99996     31 Years and 7 Months\n",
       "99997     31 Years and 8 Months\n",
       "99998     31 Years and 9 Months\n",
       "99999    31 Years and 10 Months\n",
       "Name: Credit_History_Age, Length: 92518, dtype: object"
      ]
     },
     "execution_count": 586,
     "metadata": {},
     "output_type": "execute_result"
    }
   ],
   "source": [
    "# check the column information\n",
    "data_training['Credit_History_Age']"
   ]
  },
  {
   "cell_type": "code",
   "execution_count": 587,
   "metadata": {},
   "outputs": [
    {
     "data": {
      "text/html": [
       "<div>\n",
       "<style scoped>\n",
       "    .dataframe tbody tr th:only-of-type {\n",
       "        vertical-align: middle;\n",
       "    }\n",
       "\n",
       "    .dataframe tbody tr th {\n",
       "        vertical-align: top;\n",
       "    }\n",
       "\n",
       "    .dataframe thead th {\n",
       "        text-align: right;\n",
       "    }\n",
       "</style>\n",
       "<table border=\"1\" class=\"dataframe\">\n",
       "  <thead>\n",
       "    <tr style=\"text-align: right;\">\n",
       "      <th></th>\n",
       "      <th>Credit_History_Age</th>\n",
       "      <th>credit_history_by_months</th>\n",
       "    </tr>\n",
       "  </thead>\n",
       "  <tbody>\n",
       "    <tr>\n",
       "      <th>0</th>\n",
       "      <td>22 Years and 1 Months</td>\n",
       "      <td>265</td>\n",
       "    </tr>\n",
       "    <tr>\n",
       "      <th>3</th>\n",
       "      <td>22 Years and 4 Months</td>\n",
       "      <td>268</td>\n",
       "    </tr>\n",
       "    <tr>\n",
       "      <th>4</th>\n",
       "      <td>22 Years and 5 Months</td>\n",
       "      <td>269</td>\n",
       "    </tr>\n",
       "    <tr>\n",
       "      <th>5</th>\n",
       "      <td>22 Years and 6 Months</td>\n",
       "      <td>270</td>\n",
       "    </tr>\n",
       "    <tr>\n",
       "      <th>6</th>\n",
       "      <td>22 Years and 7 Months</td>\n",
       "      <td>271</td>\n",
       "    </tr>\n",
       "    <tr>\n",
       "      <th>...</th>\n",
       "      <td>...</td>\n",
       "      <td>...</td>\n",
       "    </tr>\n",
       "    <tr>\n",
       "      <th>99995</th>\n",
       "      <td>31 Years and 6 Months</td>\n",
       "      <td>378</td>\n",
       "    </tr>\n",
       "    <tr>\n",
       "      <th>99996</th>\n",
       "      <td>31 Years and 7 Months</td>\n",
       "      <td>379</td>\n",
       "    </tr>\n",
       "    <tr>\n",
       "      <th>99997</th>\n",
       "      <td>31 Years and 8 Months</td>\n",
       "      <td>380</td>\n",
       "    </tr>\n",
       "    <tr>\n",
       "      <th>99998</th>\n",
       "      <td>31 Years and 9 Months</td>\n",
       "      <td>381</td>\n",
       "    </tr>\n",
       "    <tr>\n",
       "      <th>99999</th>\n",
       "      <td>31 Years and 10 Months</td>\n",
       "      <td>382</td>\n",
       "    </tr>\n",
       "  </tbody>\n",
       "</table>\n",
       "<p>92518 rows × 2 columns</p>\n",
       "</div>"
      ],
      "text/plain": [
       "           Credit_History_Age  credit_history_by_months\n",
       "0       22 Years and 1 Months                       265\n",
       "3       22 Years and 4 Months                       268\n",
       "4       22 Years and 5 Months                       269\n",
       "5       22 Years and 6 Months                       270\n",
       "6       22 Years and 7 Months                       271\n",
       "...                       ...                       ...\n",
       "99995   31 Years and 6 Months                       378\n",
       "99996   31 Years and 7 Months                       379\n",
       "99997   31 Years and 8 Months                       380\n",
       "99998   31 Years and 9 Months                       381\n",
       "99999  31 Years and 10 Months                       382\n",
       "\n",
       "[92518 rows x 2 columns]"
      ]
     },
     "execution_count": 587,
     "metadata": {},
     "output_type": "execute_result"
    }
   ],
   "source": [
    "# Function to convert years and months to total months\n",
    "def convert_to_months(x):\n",
    "    years, months = x.split(' Years and ')\n",
    "    months = months.split(' Months')[0]\n",
    "    return int(years) * 12 + int(months)\n",
    "\n",
    "# Apply the function to create the new column\n",
    "data_training['credit_history_by_months'] = data_training['Credit_History_Age'].apply(convert_to_months)\n",
    "data_training.iloc[:, [21, -1]]"
   ]
  },
  {
   "cell_type": "code",
   "execution_count": 588,
   "metadata": {},
   "outputs": [
    {
     "data": {
      "text/html": [
       "<div>\n",
       "<style scoped>\n",
       "    .dataframe tbody tr th:only-of-type {\n",
       "        vertical-align: middle;\n",
       "    }\n",
       "\n",
       "    .dataframe tbody tr th {\n",
       "        vertical-align: top;\n",
       "    }\n",
       "\n",
       "    .dataframe thead th {\n",
       "        text-align: right;\n",
       "    }\n",
       "</style>\n",
       "<table border=\"1\" class=\"dataframe\">\n",
       "  <thead>\n",
       "    <tr style=\"text-align: right;\">\n",
       "      <th></th>\n",
       "      <th>Credit_History_Age</th>\n",
       "      <th>credit_history_by_months</th>\n",
       "    </tr>\n",
       "  </thead>\n",
       "  <tbody>\n",
       "    <tr>\n",
       "      <th>0</th>\n",
       "      <td>22 Years and 9 Months</td>\n",
       "      <td>273</td>\n",
       "    </tr>\n",
       "    <tr>\n",
       "      <th>1</th>\n",
       "      <td>22 Years and 10 Months</td>\n",
       "      <td>274</td>\n",
       "    </tr>\n",
       "    <tr>\n",
       "      <th>3</th>\n",
       "      <td>23 Years and 0 Months</td>\n",
       "      <td>276</td>\n",
       "    </tr>\n",
       "    <tr>\n",
       "      <th>4</th>\n",
       "      <td>27 Years and 3 Months</td>\n",
       "      <td>327</td>\n",
       "    </tr>\n",
       "    <tr>\n",
       "      <th>5</th>\n",
       "      <td>27 Years and 4 Months</td>\n",
       "      <td>328</td>\n",
       "    </tr>\n",
       "    <tr>\n",
       "      <th>...</th>\n",
       "      <td>...</td>\n",
       "      <td>...</td>\n",
       "    </tr>\n",
       "    <tr>\n",
       "      <th>49994</th>\n",
       "      <td>6 Years and 6 Months</td>\n",
       "      <td>78</td>\n",
       "    </tr>\n",
       "    <tr>\n",
       "      <th>49996</th>\n",
       "      <td>31 Years and 11 Months</td>\n",
       "      <td>383</td>\n",
       "    </tr>\n",
       "    <tr>\n",
       "      <th>49997</th>\n",
       "      <td>32 Years and 0 Months</td>\n",
       "      <td>384</td>\n",
       "    </tr>\n",
       "    <tr>\n",
       "      <th>49998</th>\n",
       "      <td>32 Years and 1 Months</td>\n",
       "      <td>385</td>\n",
       "    </tr>\n",
       "    <tr>\n",
       "      <th>49999</th>\n",
       "      <td>32 Years and 2 Months</td>\n",
       "      <td>386</td>\n",
       "    </tr>\n",
       "  </tbody>\n",
       "</table>\n",
       "<p>46223 rows × 2 columns</p>\n",
       "</div>"
      ],
      "text/plain": [
       "           Credit_History_Age  credit_history_by_months\n",
       "0       22 Years and 9 Months                       273\n",
       "1      22 Years and 10 Months                       274\n",
       "3       23 Years and 0 Months                       276\n",
       "4       27 Years and 3 Months                       327\n",
       "5       27 Years and 4 Months                       328\n",
       "...                       ...                       ...\n",
       "49994    6 Years and 6 Months                        78\n",
       "49996  31 Years and 11 Months                       383\n",
       "49997   32 Years and 0 Months                       384\n",
       "49998   32 Years and 1 Months                       385\n",
       "49999   32 Years and 2 Months                       386\n",
       "\n",
       "[46223 rows x 2 columns]"
      ]
     },
     "execution_count": 588,
     "metadata": {},
     "output_type": "execute_result"
    }
   ],
   "source": [
    "# for the testing data\n",
    "# Function to convert years and months to total months\n",
    "def convert_to_months(x):\n",
    "    years, months = x.split(' Years and ')\n",
    "    months = months.split(' Months')[0]\n",
    "    return int(years) * 12 + int(months)\n",
    "\n",
    "# Apply the function to create the new column\n",
    "data_testing['credit_history_by_months'] = data_testing['Credit_History_Age'].apply(convert_to_months)\n",
    "data_testing.iloc[:, [21, -1]]"
   ]
  },
  {
   "cell_type": "markdown",
   "metadata": {},
   "source": [
    "**Payment_of_Min_Amount**"
   ]
  },
  {
   "cell_type": "code",
   "execution_count": 589,
   "metadata": {},
   "outputs": [
    {
     "data": {
      "text/plain": [
       "array(['No', 'NM', 'Yes'], dtype=object)"
      ]
     },
     "execution_count": 589,
     "metadata": {},
     "output_type": "execute_result"
    }
   ],
   "source": [
    "# check data information\n",
    "data_training['Payment_of_Min_Amount'].unique()"
   ]
  },
  {
   "cell_type": "markdown",
   "metadata": {},
   "source": [
    "we will delet all the rows contain the information 'NM'"
   ]
  },
  {
   "cell_type": "code",
   "execution_count": 590,
   "metadata": {},
   "outputs": [],
   "source": [
    "# Filter out rows where the payment column does not contain 'NM'\n",
    "data_training = data_training[data_training['Payment_of_Min_Amount'] != 'NM']\n",
    "\n",
    "# for testing data\n",
    "data_testing = data_testing[data_testing['Payment_of_Min_Amount'] != 'NM']\n"
   ]
  },
  {
   "cell_type": "markdown",
   "metadata": {},
   "source": [
    "**Payment_Behaviour**"
   ]
  },
  {
   "cell_type": "code",
   "execution_count": 591,
   "metadata": {},
   "outputs": [
    {
     "data": {
      "text/plain": [
       "Payment_Behaviour\n",
       "Low_spent_Small_value_payments      21058\n",
       "High_spent_Medium_value_payments    14172\n",
       "Low_spent_Medium_value_payments     11180\n",
       "High_spent_Large_value_payments     11016\n",
       "High_spent_Small_value_payments      9245\n",
       "Low_spent_Large_value_payments       8525\n",
       "!@9#%8                               6220\n",
       "Name: count, dtype: int64"
      ]
     },
     "execution_count": 591,
     "metadata": {},
     "output_type": "execute_result"
    }
   ],
   "source": [
    "data_training['Payment_Behaviour'].value_counts()"
   ]
  },
  {
   "cell_type": "markdown",
   "metadata": {},
   "source": [
    "delet all the rows contain fals information like '!@9#%8'"
   ]
  },
  {
   "cell_type": "code",
   "execution_count": 592,
   "metadata": {},
   "outputs": [],
   "source": [
    "# filter rows for the traning data\n",
    "data_training = data_training[data_training['Payment_Behaviour']!='!@9#%8']\n",
    "\n",
    "# for the testing data\n",
    "data_testing = data_testing[data_testing['Payment_Behaviour']!='!@9#%8']"
   ]
  },
  {
   "cell_type": "markdown",
   "metadata": {},
   "source": [
    "#### - **Outliers**"
   ]
  },
  {
   "cell_type": "code",
   "execution_count": 593,
   "metadata": {},
   "outputs": [
    {
     "data": {
      "text/plain": [
       "(75196, 30)"
      ]
     },
     "execution_count": 593,
     "metadata": {},
     "output_type": "execute_result"
    }
   ],
   "source": [
    "data_training.shape"
   ]
  },
  {
   "cell_type": "code",
   "execution_count": 594,
   "metadata": {},
   "outputs": [
    {
     "data": {
      "image/png": "[encoded data removed]",
      "text/plain": [
       "<Figure size 1400x900 with 1 Axes>"
      ]
     },
     "metadata": {},
     "output_type": "display_data"
    },
    {
     "data": {
      "image/png": "[encoded data removed]",
      "text/plain": [
       "<Figure size 1400x900 with 1 Axes>"
      ]
     },
     "metadata": {},
     "output_type": "display_data"
    },
    {
     "data": {
      "image/png": "[encoded data removed]",
      "text/plain": [
       "<Figure size 1400x900 with 1 Axes>"
      ]
     },
     "metadata": {},
     "output_type": "display_data"
    },
    {
     "data": {
      "image/png": "[encoded data removed]",
      "text/plain": [
       "<Figure size 1400x900 with 1 Axes>"
      ]
     },
     "metadata": {},
     "output_type": "display_data"
    },
    {
     "data": {
      "image/png": "[encoded data removed]",
      "text/plain": [
       "<Figure size 1400x900 with 1 Axes>"
      ]
     },
     "metadata": {},
     "output_type": "display_data"
    },
    {
     "data": {
      "image/png": "[encoded data removed]",
      "text/plain": [
       "<Figure size 1400x900 with 1 Axes>"
      ]
     },
     "metadata": {},
     "output_type": "display_data"
    }
   ],
   "source": [
    "column =['Age','Monthly_Inhand_Salary','Delay_from_due_date','Changed_Credit_Limit','Outstanding_Debt', 'Credit_Utilization_Ratio']\n",
    "for corl in column:\n",
    "    plt.figure(figsize=(14,9))\n",
    "    plt.subplot(2,1,1)\n",
    "    sns.boxplot(x=data_training[corl])\n",
    "    plt.title((f'Distribution of {corl}'))\n",
    "    \n",
    "    #plt.subplot(2,1,2)\n",
    "    #sns.distplot(x=data_training[\"Monthly_Inhand_Salary\"])"
   ]
  },
  {
   "cell_type": "code",
   "execution_count": 595,
   "metadata": {},
   "outputs": [
    {
     "data": {
      "text/plain": [
       "(64213, 30)"
      ]
     },
     "execution_count": 595,
     "metadata": {},
     "output_type": "execute_result"
    }
   ],
   "source": [
    "# Remove outliers using z-score\n",
    "numerical_columns = data_training.select_dtypes(exclude='object')\n",
    "from scipy import stats\n",
    "data_training = data_training[(np.abs(stats.zscore(numerical_columns)) < 3).all(axis=1)]\n",
    "data_training.shape"
   ]
  },
  {
   "cell_type": "markdown",
   "metadata": {},
   "source": [
    "# EDA"
   ]
  },
  {
   "cell_type": "markdown",
   "metadata": {},
   "source": [
    "- **Age Distribution**"
   ]
  },
  {
   "cell_type": "code",
   "execution_count": 630,
   "metadata": {},
   "outputs": [
    {
     "data": {
      "image/png": "[encoded data removed]",
      "text/plain": [
       "<Figure size 800x500 with 1 Axes>"
      ]
     },
     "metadata": {},
     "output_type": "display_data"
    }
   ],
   "source": [
    "# Distribution of Age\n",
    "plt.figure(figsize=(8, 5))\n",
    "sns.histplot(data_training['Age'], kde=True)\n",
    "plt.title('Age Distribution')\n",
    "plt.show()\n"
   ]
  },
  {
   "cell_type": "markdown",
   "metadata": {},
   "source": [
    "- **Annual Income**"
   ]
  },
  {
   "cell_type": "code",
   "execution_count": 601,
   "metadata": {},
   "outputs": [
    {
     "data": {
      "image/png": "[encoded data removed]",
      "text/plain": [
       "<Figure size 800x500 with 1 Axes>"
      ]
     },
     "metadata": {},
     "output_type": "display_data"
    }
   ],
   "source": [
    "# Annual Income\n",
    "plt.figure(figsize=(8, 5))\n",
    "sns.histplot(data_training['Annual_Income'], kde=True)\n",
    "plt.title('Annual Income Distribution')\n",
    "plt.show()"
   ]
  },
  {
   "cell_type": "markdown",
   "metadata": {},
   "source": [
    "- **Occupation frequency**"
   ]
  },
  {
   "cell_type": "code",
   "execution_count": 608,
   "metadata": {},
   "outputs": [
    {
     "name": "stderr",
     "output_type": "stream",
     "text": [
      "C:\\Users\\ismai\\AppData\\Local\\Temp\\ipykernel_14952\\1000096794.py:3: FutureWarning: \n",
      "\n",
      "Passing `palette` without assigning `hue` is deprecated and will be removed in v0.14.0. Assign the `y` variable to `hue` and set `legend=False` for the same effect.\n",
      "\n",
      "  sns.countplot(y='Occupation', data=data_training, order=data_training['Occupation'].value_counts().index, palette='bright')\n"
     ]
    },
    {
     "data": {
      "image/png": "[encoded data removed]",
      "text/plain": [
       "<Figure size 1000x600 with 1 Axes>"
      ]
     },
     "metadata": {},
     "output_type": "display_data"
    }
   ],
   "source": [
    "# Occupation frequency\n",
    "plt.figure(figsize=(10, 6))\n",
    "sns.countplot(y='Occupation', data=data_training, order=data_training['Occupation'].value_counts().index, palette='bright')\n",
    "plt.title('Occupation Frequency')\n",
    "plt.show()"
   ]
  },
  {
   "cell_type": "markdown",
   "metadata": {},
   "source": [
    "- **Credit Score**"
   ]
  },
  {
   "cell_type": "code",
   "execution_count": 634,
   "metadata": {},
   "outputs": [
    {
     "data": {
      "image/png": "[encoded data removed]",
      "text/plain": [
       "<Figure size 1000x600 with 1 Axes>"
      ]
     },
     "metadata": {},
     "output_type": "display_data"
    }
   ],
   "source": [
    "\n",
    "# Credit_Score distribution\n",
    "plt.figure(figsize=(10, 6))\n",
    "sns.histplot(data_training['Credit_Score'], kde=True,)\n",
    "plt.title('Credit Score Distribution')\n",
    "plt.show()\n"
   ]
  },
  {
   "cell_type": "markdown",
   "metadata": {},
   "source": [
    "- **Payment Behaviour**"
   ]
  },
  {
   "cell_type": "code",
   "execution_count": 620,
   "metadata": {},
   "outputs": [
    {
     "name": "stderr",
     "output_type": "stream",
     "text": [
      "C:\\Users\\ismai\\AppData\\Local\\Temp\\ipykernel_14952\\4160402815.py:3: FutureWarning: \n",
      "\n",
      "Passing `palette` without assigning `hue` is deprecated and will be removed in v0.14.0. Assign the `y` variable to `hue` and set `legend=False` for the same effect.\n",
      "\n",
      "  sns.countplot(y='Payment_Behaviour', data=data_training, order=data_training['Payment_Behaviour'].value_counts().index, palette=\"Paired\")\n"
     ]
    },
    {
     "data": {
      "image/png": "[encoded data removed]",
      "text/plain": [
       "<Figure size 1000x500 with 1 Axes>"
      ]
     },
     "metadata": {},
     "output_type": "display_data"
    }
   ],
   "source": [
    "# Payment Behaviour frequency\n",
    "plt.figure(figsize=(10, 5))\n",
    "sns.countplot(y='Payment_Behaviour', data=data_training, order=data_training['Payment_Behaviour'].value_counts().index, palette=\"Paired\")\n",
    "plt.title('Payment Behaviour Frequency')\n",
    "plt.show()"
   ]
  },
  {
   "cell_type": "markdown",
   "metadata": {},
   "source": [
    "- **Loan Specified **"
   ]
  },
  {
   "cell_type": "code",
   "execution_count": 626,
   "metadata": {},
   "outputs": [
    {
     "name": "stderr",
     "output_type": "stream",
     "text": [
      "C:\\Users\\ismai\\AppData\\Local\\Temp\\ipykernel_14952\\3321221926.py:3: FutureWarning: \n",
      "\n",
      "Passing `palette` without assigning `hue` is deprecated and will be removed in v0.14.0. Assign the `x` variable to `hue` and set `legend=False` for the same effect.\n",
      "\n",
      "  sns.countplot(x='Loan_Specified', data=data_training, palette='Set2')\n"
     ]
    },
    {
     "data": {
      "image/png": "[encoded data removed]",
      "text/plain": [
       "<Figure size 800x600 with 1 Axes>"
      ]
     },
     "metadata": {},
     "output_type": "display_data"
    }
   ],
   "source": [
    "# Frequency of Loan_Specified\n",
    "plt.figure(figsize=(8, 6))\n",
    "sns.countplot(x='Loan_Specified', data=data_training, palette='Set2')\n",
    "plt.title('Loan Specified Frequency')\n",
    "plt.show()"
   ]
  },
  {
   "cell_type": "markdown",
   "metadata": {},
   "source": [
    "# Data Preprocessing"
   ]
  }
 ],
 "metadata": {
  "kernelspec": {
   "display_name": "Python 3",
   "language": "python",
   "name": "python3"
  },
  "language_info": {
   "codemirror_mode": {
    "name": "ipython",
    "version": 3
   },
   "file_extension": ".py",
   "mimetype": "text/x-python",
   "name": "python",
   "nbconvert_exporter": "python",
   "pygments_lexer": "ipython3",
   "version": "3.12.2"
  }
 },
 "nbformat": 4,
 "nbformat_minor": 2
}
